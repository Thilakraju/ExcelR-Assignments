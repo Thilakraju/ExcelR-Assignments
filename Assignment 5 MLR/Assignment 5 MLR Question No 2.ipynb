{
 "cells": [
  {
   "cell_type": "markdown",
   "id": "226bf24f",
   "metadata": {},
   "source": [
    "# Multi Linear Regression"
   ]
  },
  {
   "cell_type": "markdown",
   "id": "429b01e2",
   "metadata": {},
   "source": [
    "# Model #1 No Transformation"
   ]
  },
  {
   "cell_type": "raw",
   "id": "31c79a29",
   "metadata": {},
   "source": [
    "2.Consider only the below columns and prepare a prediction model for predicting Price.\n",
    "\n",
    "Corolla<-Corolla[c(\"Price\",\"Age_08_04\",\"KM\",\"HP\",\"cc\",\"Doors\",\"Gears\",\"Quarterly_Tax\",\"Weight\")]\n"
   ]
  },
  {
   "cell_type": "code",
   "execution_count": 1,
   "id": "878f1e71",
   "metadata": {},
   "outputs": [],
   "source": [
    "import pandas as pd\n",
    "import numpy as np\n",
    "from sklearn.model_selection import train_test_split\n",
    "from sklearn.linear_model import LinearRegression\n",
    "import matplotlib.pyplot as plt"
   ]
  },
  {
   "cell_type": "code",
   "execution_count": 2,
   "id": "c5a4701e",
   "metadata": {},
   "outputs": [],
   "source": [
    "df=pd.read_csv('ToyotaCorolla.csv',encoding='latin-1')"
   ]
  },
  {
   "cell_type": "code",
   "execution_count": 3,
   "id": "5d0be55b",
   "metadata": {},
   "outputs": [
    {
     "data": {
      "text/html": [
       "<div>\n",
       "<style scoped>\n",
       "    .dataframe tbody tr th:only-of-type {\n",
       "        vertical-align: middle;\n",
       "    }\n",
       "\n",
       "    .dataframe tbody tr th {\n",
       "        vertical-align: top;\n",
       "    }\n",
       "\n",
       "    .dataframe thead th {\n",
       "        text-align: right;\n",
       "    }\n",
       "</style>\n",
       "<table border=\"1\" class=\"dataframe\">\n",
       "  <thead>\n",
       "    <tr style=\"text-align: right;\">\n",
       "      <th></th>\n",
       "      <th>Id</th>\n",
       "      <th>Model</th>\n",
       "      <th>Price</th>\n",
       "      <th>Age_08_04</th>\n",
       "      <th>Mfg_Month</th>\n",
       "      <th>Mfg_Year</th>\n",
       "      <th>KM</th>\n",
       "      <th>Fuel_Type</th>\n",
       "      <th>HP</th>\n",
       "      <th>Met_Color</th>\n",
       "      <th>...</th>\n",
       "      <th>Central_Lock</th>\n",
       "      <th>Powered_Windows</th>\n",
       "      <th>Power_Steering</th>\n",
       "      <th>Radio</th>\n",
       "      <th>Mistlamps</th>\n",
       "      <th>Sport_Model</th>\n",
       "      <th>Backseat_Divider</th>\n",
       "      <th>Metallic_Rim</th>\n",
       "      <th>Radio_cassette</th>\n",
       "      <th>Tow_Bar</th>\n",
       "    </tr>\n",
       "  </thead>\n",
       "  <tbody>\n",
       "    <tr>\n",
       "      <th>0</th>\n",
       "      <td>1</td>\n",
       "      <td>TOYOTA Corolla 2.0 D4D HATCHB TERRA 2/3-Doors</td>\n",
       "      <td>13500</td>\n",
       "      <td>23</td>\n",
       "      <td>10</td>\n",
       "      <td>2002</td>\n",
       "      <td>46986</td>\n",
       "      <td>Diesel</td>\n",
       "      <td>90</td>\n",
       "      <td>1</td>\n",
       "      <td>...</td>\n",
       "      <td>1</td>\n",
       "      <td>1</td>\n",
       "      <td>1</td>\n",
       "      <td>0</td>\n",
       "      <td>0</td>\n",
       "      <td>0</td>\n",
       "      <td>1</td>\n",
       "      <td>0</td>\n",
       "      <td>0</td>\n",
       "      <td>0</td>\n",
       "    </tr>\n",
       "    <tr>\n",
       "      <th>1</th>\n",
       "      <td>2</td>\n",
       "      <td>TOYOTA Corolla 2.0 D4D HATCHB TERRA 2/3-Doors</td>\n",
       "      <td>13750</td>\n",
       "      <td>23</td>\n",
       "      <td>10</td>\n",
       "      <td>2002</td>\n",
       "      <td>72937</td>\n",
       "      <td>Diesel</td>\n",
       "      <td>90</td>\n",
       "      <td>1</td>\n",
       "      <td>...</td>\n",
       "      <td>1</td>\n",
       "      <td>0</td>\n",
       "      <td>1</td>\n",
       "      <td>0</td>\n",
       "      <td>0</td>\n",
       "      <td>0</td>\n",
       "      <td>1</td>\n",
       "      <td>0</td>\n",
       "      <td>0</td>\n",
       "      <td>0</td>\n",
       "    </tr>\n",
       "    <tr>\n",
       "      <th>2</th>\n",
       "      <td>3</td>\n",
       "      <td>TOYOTA Corolla 2.0 D4D HATCHB TERRA 2/3-Doors</td>\n",
       "      <td>13950</td>\n",
       "      <td>24</td>\n",
       "      <td>9</td>\n",
       "      <td>2002</td>\n",
       "      <td>41711</td>\n",
       "      <td>Diesel</td>\n",
       "      <td>90</td>\n",
       "      <td>1</td>\n",
       "      <td>...</td>\n",
       "      <td>0</td>\n",
       "      <td>0</td>\n",
       "      <td>1</td>\n",
       "      <td>0</td>\n",
       "      <td>0</td>\n",
       "      <td>0</td>\n",
       "      <td>1</td>\n",
       "      <td>0</td>\n",
       "      <td>0</td>\n",
       "      <td>0</td>\n",
       "    </tr>\n",
       "    <tr>\n",
       "      <th>3</th>\n",
       "      <td>4</td>\n",
       "      <td>TOYOTA Corolla 2.0 D4D HATCHB TERRA 2/3-Doors</td>\n",
       "      <td>14950</td>\n",
       "      <td>26</td>\n",
       "      <td>7</td>\n",
       "      <td>2002</td>\n",
       "      <td>48000</td>\n",
       "      <td>Diesel</td>\n",
       "      <td>90</td>\n",
       "      <td>0</td>\n",
       "      <td>...</td>\n",
       "      <td>0</td>\n",
       "      <td>0</td>\n",
       "      <td>1</td>\n",
       "      <td>0</td>\n",
       "      <td>0</td>\n",
       "      <td>0</td>\n",
       "      <td>1</td>\n",
       "      <td>0</td>\n",
       "      <td>0</td>\n",
       "      <td>0</td>\n",
       "    </tr>\n",
       "    <tr>\n",
       "      <th>4</th>\n",
       "      <td>5</td>\n",
       "      <td>TOYOTA Corolla 2.0 D4D HATCHB SOL 2/3-Doors</td>\n",
       "      <td>13750</td>\n",
       "      <td>30</td>\n",
       "      <td>3</td>\n",
       "      <td>2002</td>\n",
       "      <td>38500</td>\n",
       "      <td>Diesel</td>\n",
       "      <td>90</td>\n",
       "      <td>0</td>\n",
       "      <td>...</td>\n",
       "      <td>1</td>\n",
       "      <td>1</td>\n",
       "      <td>1</td>\n",
       "      <td>0</td>\n",
       "      <td>1</td>\n",
       "      <td>0</td>\n",
       "      <td>1</td>\n",
       "      <td>0</td>\n",
       "      <td>0</td>\n",
       "      <td>0</td>\n",
       "    </tr>\n",
       "  </tbody>\n",
       "</table>\n",
       "<p>5 rows × 38 columns</p>\n",
       "</div>"
      ],
      "text/plain": [
       "   Id                                           Model  Price  Age_08_04  \\\n",
       "0   1   TOYOTA Corolla 2.0 D4D HATCHB TERRA 2/3-Doors  13500         23   \n",
       "1   2   TOYOTA Corolla 2.0 D4D HATCHB TERRA 2/3-Doors  13750         23   \n",
       "2   3   TOYOTA Corolla 2.0 D4D HATCHB TERRA 2/3-Doors  13950         24   \n",
       "3   4   TOYOTA Corolla 2.0 D4D HATCHB TERRA 2/3-Doors  14950         26   \n",
       "4   5     TOYOTA Corolla 2.0 D4D HATCHB SOL 2/3-Doors  13750         30   \n",
       "\n",
       "   Mfg_Month  Mfg_Year     KM Fuel_Type  HP  Met_Color  ... Central_Lock  \\\n",
       "0         10      2002  46986    Diesel  90          1  ...            1   \n",
       "1         10      2002  72937    Diesel  90          1  ...            1   \n",
       "2          9      2002  41711    Diesel  90          1  ...            0   \n",
       "3          7      2002  48000    Diesel  90          0  ...            0   \n",
       "4          3      2002  38500    Diesel  90          0  ...            1   \n",
       "\n",
       "   Powered_Windows  Power_Steering  Radio  Mistlamps  Sport_Model  \\\n",
       "0                1               1      0          0            0   \n",
       "1                0               1      0          0            0   \n",
       "2                0               1      0          0            0   \n",
       "3                0               1      0          0            0   \n",
       "4                1               1      0          1            0   \n",
       "\n",
       "   Backseat_Divider  Metallic_Rim  Radio_cassette  Tow_Bar  \n",
       "0                 1             0               0        0  \n",
       "1                 1             0               0        0  \n",
       "2                 1             0               0        0  \n",
       "3                 1             0               0        0  \n",
       "4                 1             0               0        0  \n",
       "\n",
       "[5 rows x 38 columns]"
      ]
     },
     "execution_count": 3,
     "metadata": {},
     "output_type": "execute_result"
    }
   ],
   "source": [
    "df.head()"
   ]
  },
  {
   "cell_type": "code",
   "execution_count": 4,
   "id": "f81c81fc",
   "metadata": {},
   "outputs": [
    {
     "data": {
      "text/plain": [
       "(1436, 38)"
      ]
     },
     "execution_count": 4,
     "metadata": {},
     "output_type": "execute_result"
    }
   ],
   "source": [
    "df.shape"
   ]
  },
  {
   "cell_type": "code",
   "execution_count": 5,
   "id": "8431479f",
   "metadata": {},
   "outputs": [
    {
     "name": "stdout",
     "output_type": "stream",
     "text": [
      "<class 'pandas.core.frame.DataFrame'>\n",
      "RangeIndex: 1436 entries, 0 to 1435\n",
      "Data columns (total 38 columns):\n",
      " #   Column            Non-Null Count  Dtype \n",
      "---  ------            --------------  ----- \n",
      " 0   Id                1436 non-null   int64 \n",
      " 1   Model             1436 non-null   object\n",
      " 2   Price             1436 non-null   int64 \n",
      " 3   Age_08_04         1436 non-null   int64 \n",
      " 4   Mfg_Month         1436 non-null   int64 \n",
      " 5   Mfg_Year          1436 non-null   int64 \n",
      " 6   KM                1436 non-null   int64 \n",
      " 7   Fuel_Type         1436 non-null   object\n",
      " 8   HP                1436 non-null   int64 \n",
      " 9   Met_Color         1436 non-null   int64 \n",
      " 10  Color             1436 non-null   object\n",
      " 11  Automatic         1436 non-null   int64 \n",
      " 12  cc                1436 non-null   int64 \n",
      " 13  Doors             1436 non-null   int64 \n",
      " 14  Cylinders         1436 non-null   int64 \n",
      " 15  Gears             1436 non-null   int64 \n",
      " 16  Quarterly_Tax     1436 non-null   int64 \n",
      " 17  Weight            1436 non-null   int64 \n",
      " 18  Mfr_Guarantee     1436 non-null   int64 \n",
      " 19  BOVAG_Guarantee   1436 non-null   int64 \n",
      " 20  Guarantee_Period  1436 non-null   int64 \n",
      " 21  ABS               1436 non-null   int64 \n",
      " 22  Airbag_1          1436 non-null   int64 \n",
      " 23  Airbag_2          1436 non-null   int64 \n",
      " 24  Airco             1436 non-null   int64 \n",
      " 25  Automatic_airco   1436 non-null   int64 \n",
      " 26  Boardcomputer     1436 non-null   int64 \n",
      " 27  CD_Player         1436 non-null   int64 \n",
      " 28  Central_Lock      1436 non-null   int64 \n",
      " 29  Powered_Windows   1436 non-null   int64 \n",
      " 30  Power_Steering    1436 non-null   int64 \n",
      " 31  Radio             1436 non-null   int64 \n",
      " 32  Mistlamps         1436 non-null   int64 \n",
      " 33  Sport_Model       1436 non-null   int64 \n",
      " 34  Backseat_Divider  1436 non-null   int64 \n",
      " 35  Metallic_Rim      1436 non-null   int64 \n",
      " 36  Radio_cassette    1436 non-null   int64 \n",
      " 37  Tow_Bar           1436 non-null   int64 \n",
      "dtypes: int64(35), object(3)\n",
      "memory usage: 426.4+ KB\n"
     ]
    }
   ],
   "source": [
    "df.info()"
   ]
  },
  {
   "cell_type": "code",
   "execution_count": 6,
   "id": "f4318025",
   "metadata": {},
   "outputs": [],
   "source": [
    "X=df[[\"Age_08_04\",\"KM\",\"HP\",\"cc\",\"Doors\",\"Gears\",\"Quarterly_Tax\",\"Weight\"]]\n",
    "y=df[[\"Price\"]]"
   ]
  },
  {
   "cell_type": "code",
   "execution_count": 7,
   "id": "75f2019d",
   "metadata": {},
   "outputs": [
    {
     "data": {
      "text/plain": [
       "(0, 38)"
      ]
     },
     "execution_count": 7,
     "metadata": {},
     "output_type": "execute_result"
    }
   ],
   "source": [
    "df[df.duplicated()].shape"
   ]
  },
  {
   "cell_type": "markdown",
   "id": "191daa00",
   "metadata": {},
   "source": [
    "# Check for Duplicate Values"
   ]
  },
  {
   "cell_type": "code",
   "execution_count": 8,
   "id": "beb9e104",
   "metadata": {},
   "outputs": [
    {
     "data": {
      "text/html": [
       "<div>\n",
       "<style scoped>\n",
       "    .dataframe tbody tr th:only-of-type {\n",
       "        vertical-align: middle;\n",
       "    }\n",
       "\n",
       "    .dataframe tbody tr th {\n",
       "        vertical-align: top;\n",
       "    }\n",
       "\n",
       "    .dataframe thead th {\n",
       "        text-align: right;\n",
       "    }\n",
       "</style>\n",
       "<table border=\"1\" class=\"dataframe\">\n",
       "  <thead>\n",
       "    <tr style=\"text-align: right;\">\n",
       "      <th></th>\n",
       "      <th>Id</th>\n",
       "      <th>Model</th>\n",
       "      <th>Price</th>\n",
       "      <th>Age_08_04</th>\n",
       "      <th>Mfg_Month</th>\n",
       "      <th>Mfg_Year</th>\n",
       "      <th>KM</th>\n",
       "      <th>Fuel_Type</th>\n",
       "      <th>HP</th>\n",
       "      <th>Met_Color</th>\n",
       "      <th>...</th>\n",
       "      <th>Central_Lock</th>\n",
       "      <th>Powered_Windows</th>\n",
       "      <th>Power_Steering</th>\n",
       "      <th>Radio</th>\n",
       "      <th>Mistlamps</th>\n",
       "      <th>Sport_Model</th>\n",
       "      <th>Backseat_Divider</th>\n",
       "      <th>Metallic_Rim</th>\n",
       "      <th>Radio_cassette</th>\n",
       "      <th>Tow_Bar</th>\n",
       "    </tr>\n",
       "  </thead>\n",
       "  <tbody>\n",
       "  </tbody>\n",
       "</table>\n",
       "<p>0 rows × 38 columns</p>\n",
       "</div>"
      ],
      "text/plain": [
       "Empty DataFrame\n",
       "Columns: [Id, Model, Price, Age_08_04, Mfg_Month, Mfg_Year, KM, Fuel_Type, HP, Met_Color, Color, Automatic, cc, Doors, Cylinders, Gears, Quarterly_Tax, Weight, Mfr_Guarantee, BOVAG_Guarantee, Guarantee_Period, ABS, Airbag_1, Airbag_2, Airco, Automatic_airco, Boardcomputer, CD_Player, Central_Lock, Powered_Windows, Power_Steering, Radio, Mistlamps, Sport_Model, Backseat_Divider, Metallic_Rim, Radio_cassette, Tow_Bar]\n",
       "Index: []\n",
       "\n",
       "[0 rows x 38 columns]"
      ]
     },
     "execution_count": 8,
     "metadata": {},
     "output_type": "execute_result"
    }
   ],
   "source": [
    "df[df.duplicated()] # No Duplicate Records"
   ]
  },
  {
   "cell_type": "code",
   "execution_count": 9,
   "id": "f2eeaaf3",
   "metadata": {
    "scrolled": true
   },
   "outputs": [
    {
     "data": {
      "text/plain": [
       "(array([110., 706., 343., 114.,  75.,  59.,  22.,   4.,   0.,   3.]),\n",
       " array([ 4350.,  7165.,  9980., 12795., 15610., 18425., 21240., 24055.,\n",
       "        26870., 29685., 32500.]),\n",
       " <BarContainer object of 10 artists>)"
      ]
     },
     "execution_count": 9,
     "metadata": {},
     "output_type": "execute_result"
    },
    {
     "data": {
      "image/png": "[encoded data removed]",
      "text/plain": [
       "<Figure size 640x480 with 1 Axes>"
      ]
     },
     "metadata": {},
     "output_type": "display_data"
    }
   ],
   "source": [
    "plt.hist(df['Price'],color='midnightblue',edgecolor='w') "
   ]
  },
  {
   "cell_type": "markdown",
   "id": "206ee09c",
   "metadata": {},
   "source": [
    "# Check for Outliers and Cleaning"
   ]
  },
  {
   "cell_type": "code",
   "execution_count": 10,
   "id": "174e9954",
   "metadata": {},
   "outputs": [
    {
     "data": {
      "image/png": "[encoded data removed]",
      "text/plain": [
       "<Figure size 640x480 with 1 Axes>"
      ]
     },
     "metadata": {},
     "output_type": "display_data"
    }
   ],
   "source": [
    "data_box=df.dropna()\n",
    "data_box1=data_box.Price\n",
    "plt.boxplot(data_box1)\n",
    "plt.show()"
   ]
  },
  {
   "cell_type": "code",
   "execution_count": 11,
   "id": "f7e08c38",
   "metadata": {},
   "outputs": [],
   "source": [
    "# Calculate IQR\n",
    "Q1 = df['Price'].quantile(0.25)\n",
    "Q3 = df['Price'].quantile(0.75)\n",
    "IQR = Q3 - Q1"
   ]
  },
  {
   "cell_type": "code",
   "execution_count": 12,
   "id": "5bbdac9d",
   "metadata": {},
   "outputs": [],
   "source": [
    "# Remove data points outside IQR range\n",
    "df = df[~((df['Price'] < (Q1 - 1.5 * IQR)) |(df['Price'] > (Q3 + 1.5 * IQR)))]"
   ]
  },
  {
   "cell_type": "code",
   "execution_count": 13,
   "id": "08c36414",
   "metadata": {},
   "outputs": [
    {
     "data": {
      "image/png": "[encoded data removed]",
      "text/plain": [
       "<Figure size 640x480 with 1 Axes>"
      ]
     },
     "metadata": {},
     "output_type": "display_data"
    }
   ],
   "source": [
    "data_box=df.dropna()\n",
    "data_box1=data_box.Price\n",
    "plt.boxplot(data_box1)\n",
    "plt.show()"
   ]
  },
  {
   "cell_type": "code",
   "execution_count": 14,
   "id": "6c14d54b",
   "metadata": {},
   "outputs": [
    {
     "data": {
      "text/plain": [
       "(1326, 38)"
      ]
     },
     "execution_count": 14,
     "metadata": {},
     "output_type": "execute_result"
    }
   ],
   "source": [
    "df.shape"
   ]
  },
  {
   "cell_type": "code",
   "execution_count": 15,
   "id": "b205c354",
   "metadata": {},
   "outputs": [
    {
     "data": {
      "image/png": "[encoded data removed]",
      "text/plain": [
       "<Figure size 640x480 with 1 Axes>"
      ]
     },
     "metadata": {},
     "output_type": "display_data"
    }
   ],
   "source": [
    "data_box=df.dropna()\n",
    "data_box1=data_box.Age_08_04\n",
    "plt.boxplot(data_box1)\n",
    "plt.show()"
   ]
  },
  {
   "cell_type": "code",
   "execution_count": 16,
   "id": "3e59ef20",
   "metadata": {},
   "outputs": [
    {
     "data": {
      "text/plain": [
       "count     1326.000000\n",
       "mean      9944.878582\n",
       "std       2365.215061\n",
       "min       4350.000000\n",
       "25%       8250.000000\n",
       "50%       9500.000000\n",
       "75%      10995.000000\n",
       "max      17200.000000\n",
       "Name: Price, dtype: float64"
      ]
     },
     "execution_count": 16,
     "metadata": {},
     "output_type": "execute_result"
    }
   ],
   "source": [
    "df.Price.describe()"
   ]
  },
  {
   "cell_type": "code",
   "execution_count": 17,
   "id": "3a4d4f1e",
   "metadata": {},
   "outputs": [],
   "source": [
    "Q1 = df['Age_08_04'].quantile(0.25)\n",
    "Q3 = df['Age_08_04'].quantile(0.75)\n",
    "IQR = Q3 - Q1"
   ]
  },
  {
   "cell_type": "code",
   "execution_count": 18,
   "id": "b62dc050",
   "metadata": {},
   "outputs": [],
   "source": [
    "df = df[~((df['Age_08_04'] < (Q1 - 1.5 * IQR)) |(df['Age_08_04'] > (Q3 + 1.5 * IQR)))]"
   ]
  },
  {
   "cell_type": "code",
   "execution_count": 19,
   "id": "4a4a38f9",
   "metadata": {},
   "outputs": [
    {
     "data": {
      "image/png": "[encoded data removed]",
      "text/plain": [
       "<Figure size 640x480 with 1 Axes>"
      ]
     },
     "metadata": {},
     "output_type": "display_data"
    }
   ],
   "source": [
    "data_box=df.dropna()\n",
    "data_box1=data_box.Age_08_04\n",
    "plt.boxplot(data_box1)\n",
    "plt.show()"
   ]
  },
  {
   "cell_type": "code",
   "execution_count": 20,
   "id": "0bc80ee2",
   "metadata": {
    "scrolled": true
   },
   "outputs": [
    {
     "data": {
      "image/png": "[encoded data removed]",
      "text/plain": [
       "<Figure size 640x480 with 1 Axes>"
      ]
     },
     "metadata": {},
     "output_type": "display_data"
    }
   ],
   "source": [
    "data_box=df.dropna()\n",
    "data_box1=data_box.KM\n",
    "plt.boxplot(data_box1)\n",
    "plt.show()"
   ]
  },
  {
   "cell_type": "code",
   "execution_count": 21,
   "id": "e3324a99",
   "metadata": {},
   "outputs": [
    {
     "data": {
      "image/png": "[encoded data removed]",
      "text/plain": [
       "<Figure size 640x480 with 1 Axes>"
      ]
     },
     "metadata": {},
     "output_type": "display_data"
    }
   ],
   "source": [
    "data_box=df.dropna()\n",
    "data_box1=data_box.cc\n",
    "plt.boxplot(data_box1)\n",
    "plt.show()"
   ]
  },
  {
   "cell_type": "code",
   "execution_count": 22,
   "id": "f6a9c7a5",
   "metadata": {},
   "outputs": [
    {
     "data": {
      "image/png": "[encoded data removed]",
      "text/plain": [
       "<Figure size 640x480 with 1 Axes>"
      ]
     },
     "metadata": {},
     "output_type": "display_data"
    }
   ],
   "source": [
    "data_box=df.dropna()\n",
    "data_box1=data_box.HP\n",
    "plt.boxplot(data_box1)\n",
    "plt.show()"
   ]
  },
  {
   "cell_type": "code",
   "execution_count": 23,
   "id": "4d4861c0",
   "metadata": {},
   "outputs": [
    {
     "data": {
      "image/png": "[encoded data removed]",
      "text/plain": [
       "<Figure size 640x480 with 1 Axes>"
      ]
     },
     "metadata": {},
     "output_type": "display_data"
    }
   ],
   "source": [
    "data_box=df.dropna()\n",
    "data_box1=data_box.Doors\n",
    "plt.boxplot(data_box1)\n",
    "plt.show()"
   ]
  },
  {
   "cell_type": "code",
   "execution_count": 24,
   "id": "df17433b",
   "metadata": {},
   "outputs": [
    {
     "data": {
      "image/png": "[encoded data removed]",
      "text/plain": [
       "<Figure size 640x480 with 1 Axes>"
      ]
     },
     "metadata": {},
     "output_type": "display_data"
    }
   ],
   "source": [
    "data_box=df.dropna()\n",
    "data_box1=data_box.Gears\n",
    "plt.boxplot(data_box1)\n",
    "plt.show()"
   ]
  },
  {
   "cell_type": "code",
   "execution_count": 25,
   "id": "d45fbf82",
   "metadata": {},
   "outputs": [
    {
     "data": {
      "text/plain": [
       "count    1320.000000\n",
       "mean        5.023485\n",
       "std         0.183207\n",
       "min         3.000000\n",
       "25%         5.000000\n",
       "50%         5.000000\n",
       "75%         5.000000\n",
       "max         6.000000\n",
       "Name: Gears, dtype: float64"
      ]
     },
     "execution_count": 25,
     "metadata": {},
     "output_type": "execute_result"
    }
   ],
   "source": [
    "df.Gears.describe()"
   ]
  },
  {
   "cell_type": "code",
   "execution_count": 26,
   "id": "1dc47c27",
   "metadata": {},
   "outputs": [
    {
     "data": {
      "image/png": "[encoded data removed]",
      "text/plain": [
       "<Figure size 640x480 with 1 Axes>"
      ]
     },
     "metadata": {},
     "output_type": "display_data"
    }
   ],
   "source": [
    "data_box=df.dropna()\n",
    "data_box1=data_box.Quarterly_Tax\n",
    "plt.boxplot(data_box1)\n",
    "plt.show()"
   ]
  },
  {
   "cell_type": "code",
   "execution_count": 27,
   "id": "ae548e6b",
   "metadata": {},
   "outputs": [
    {
     "data": {
      "text/plain": [
       "count    1320.000000\n",
       "mean       85.085606\n",
       "std        37.546951\n",
       "min        19.000000\n",
       "25%        69.000000\n",
       "50%        85.000000\n",
       "75%        85.000000\n",
       "max       234.000000\n",
       "Name: Quarterly_Tax, dtype: float64"
      ]
     },
     "execution_count": 27,
     "metadata": {},
     "output_type": "execute_result"
    }
   ],
   "source": [
    "df.Quarterly_Tax.describe()"
   ]
  },
  {
   "cell_type": "code",
   "execution_count": null,
   "id": "3d790c80",
   "metadata": {},
   "outputs": [],
   "source": [
    "Q1 = df['Quarterly_Tax'].quantile(0.25)\n",
    "Q3 = df['Quarterly_Tax'].quantile(0.75)\n",
    "IQR = Q3 - Q1"
   ]
  },
  {
   "cell_type": "code",
   "execution_count": 28,
   "id": "f3446ab1",
   "metadata": {},
   "outputs": [],
   "source": [
    "df = df[~((df['Quarterly_Tax'] < (Q1 - 1.5 * IQR)) |(df['Quarterly_Tax'] > (Q3 + 1.5 * IQR)))]"
   ]
  },
  {
   "cell_type": "code",
   "execution_count": 29,
   "id": "b0b4cfa1",
   "metadata": {},
   "outputs": [
    {
     "data": {
      "image/png": "[encoded data removed]",
      "text/plain": [
       "<Figure size 640x480 with 1 Axes>"
      ]
     },
     "metadata": {},
     "output_type": "display_data"
    }
   ],
   "source": [
    "data_box=df.dropna()\n",
    "data_box1=data_box.Quarterly_Tax\n",
    "plt.boxplot(data_box1)\n",
    "plt.show()"
   ]
  },
  {
   "cell_type": "code",
   "execution_count": 30,
   "id": "ef029f9f",
   "metadata": {},
   "outputs": [
    {
     "data": {
      "image/png": "[encoded data removed]",
      "text/plain": [
       "<Figure size 640x480 with 1 Axes>"
      ]
     },
     "metadata": {},
     "output_type": "display_data"
    }
   ],
   "source": [
    "data_box=df.dropna()\n",
    "data_box1=data_box.Weight\n",
    "plt.boxplot(data_box1)\n",
    "plt.show()"
   ]
  },
  {
   "cell_type": "code",
   "execution_count": 31,
   "id": "dc98af3c",
   "metadata": {},
   "outputs": [
    {
     "data": {
      "text/plain": [
       "count    1191.000000\n",
       "mean     1057.214945\n",
       "std        31.660289\n",
       "min      1000.000000\n",
       "25%      1035.000000\n",
       "50%      1055.000000\n",
       "75%      1075.000000\n",
       "max      1480.000000\n",
       "Name: Weight, dtype: float64"
      ]
     },
     "execution_count": 31,
     "metadata": {},
     "output_type": "execute_result"
    }
   ],
   "source": [
    "df.Weight.describe()"
   ]
  },
  {
   "cell_type": "code",
   "execution_count": 32,
   "id": "f64842d5",
   "metadata": {},
   "outputs": [],
   "source": [
    "Q1 = df['Weight'].quantile(0.25)\n",
    "Q3 = df['Weight'].quantile(0.75)\n",
    "IQR = Q3 - Q1"
   ]
  },
  {
   "cell_type": "code",
   "execution_count": 33,
   "id": "f1745c0d",
   "metadata": {},
   "outputs": [],
   "source": [
    "df = df[~((df['Weight'] < (Q1 - 1.5 * IQR)) |(df['Weight'] > (Q3 + 1.5 * IQR)))]"
   ]
  },
  {
   "cell_type": "code",
   "execution_count": 34,
   "id": "c54c8e29",
   "metadata": {
    "scrolled": true
   },
   "outputs": [
    {
     "data": {
      "image/png": "[encoded data removed]",
      "text/plain": [
       "<Figure size 640x480 with 1 Axes>"
      ]
     },
     "metadata": {},
     "output_type": "display_data"
    }
   ],
   "source": [
    "data_box=df.dropna()\n",
    "data_box1=data_box.Weight\n",
    "plt.boxplot(data_box1)\n",
    "plt.show()"
   ]
  },
  {
   "cell_type": "code",
   "execution_count": 38,
   "id": "8e8d394a",
   "metadata": {},
   "outputs": [
    {
     "name": "stdout",
     "output_type": "stream",
     "text": [
      "<class 'pandas.core.frame.DataFrame'>\n",
      "Int64Index: 1185 entries, 18 to 1435\n",
      "Data columns (total 38 columns):\n",
      " #   Column            Non-Null Count  Dtype \n",
      "---  ------            --------------  ----- \n",
      " 0   Id                1185 non-null   int64 \n",
      " 1   Model             1185 non-null   object\n",
      " 2   Price             1185 non-null   int64 \n",
      " 3   Age_08_04         1185 non-null   int64 \n",
      " 4   Mfg_Month         1185 non-null   int64 \n",
      " 5   Mfg_Year          1185 non-null   int64 \n",
      " 6   KM                1185 non-null   int64 \n",
      " 7   Fuel_Type         1185 non-null   object\n",
      " 8   HP                1185 non-null   int64 \n",
      " 9   Met_Color         1185 non-null   int64 \n",
      " 10  Color             1185 non-null   object\n",
      " 11  Automatic         1185 non-null   int64 \n",
      " 12  cc                1185 non-null   int64 \n",
      " 13  Doors             1185 non-null   int64 \n",
      " 14  Cylinders         1185 non-null   int64 \n",
      " 15  Gears             1185 non-null   int64 \n",
      " 16  Quarterly_Tax     1185 non-null   int64 \n",
      " 17  Weight            1185 non-null   int64 \n",
      " 18  Mfr_Guarantee     1185 non-null   int64 \n",
      " 19  BOVAG_Guarantee   1185 non-null   int64 \n",
      " 20  Guarantee_Period  1185 non-null   int64 \n",
      " 21  ABS               1185 non-null   int64 \n",
      " 22  Airbag_1          1185 non-null   int64 \n",
      " 23  Airbag_2          1185 non-null   int64 \n",
      " 24  Airco             1185 non-null   int64 \n",
      " 25  Automatic_airco   1185 non-null   int64 \n",
      " 26  Boardcomputer     1185 non-null   int64 \n",
      " 27  CD_Player         1185 non-null   int64 \n",
      " 28  Central_Lock      1185 non-null   int64 \n",
      " 29  Powered_Windows   1185 non-null   int64 \n",
      " 30  Power_Steering    1185 non-null   int64 \n",
      " 31  Radio             1185 non-null   int64 \n",
      " 32  Mistlamps         1185 non-null   int64 \n",
      " 33  Sport_Model       1185 non-null   int64 \n",
      " 34  Backseat_Divider  1185 non-null   int64 \n",
      " 35  Metallic_Rim      1185 non-null   int64 \n",
      " 36  Radio_cassette    1185 non-null   int64 \n",
      " 37  Tow_Bar           1185 non-null   int64 \n",
      "dtypes: int64(35), object(3)\n",
      "memory usage: 361.1+ KB\n"
     ]
    }
   ],
   "source": [
    "df.info()"
   ]
  },
  {
   "cell_type": "code",
   "execution_count": 39,
   "id": "7651f7dc",
   "metadata": {},
   "outputs": [],
   "source": [
    "X_train,X_test,y_train,y_test=train_test_split(X,y,test_size=0.2,random_state=42)"
   ]
  },
  {
   "cell_type": "code",
   "execution_count": 40,
   "id": "cb694500",
   "metadata": {},
   "outputs": [
    {
     "data": {
      "text/plain": [
       "LinearRegression()"
      ]
     },
     "execution_count": 40,
     "metadata": {},
     "output_type": "execute_result"
    }
   ],
   "source": [
    "model = LinearRegression()\n",
    "model.fit(X_train, y_train)"
   ]
  },
  {
   "cell_type": "code",
   "execution_count": 41,
   "id": "93bf0b99",
   "metadata": {},
   "outputs": [],
   "source": [
    "y_pred=model.predict(X_test)"
   ]
  },
  {
   "cell_type": "code",
   "execution_count": 42,
   "id": "b09c841d",
   "metadata": {},
   "outputs": [
    {
     "data": {
      "text/plain": [
       "array([[11334.87722086],\n",
       "       [ 8930.64945599],\n",
       "       [ 9548.86462071],\n",
       "       [ 8965.06576035],\n",
       "       [10038.78235718],\n",
       "       [ 7802.95638398],\n",
       "       [ 8754.41363983],\n",
       "       [ 8334.34227338],\n",
       "       [14109.59893395],\n",
       "       [13191.99921717],\n",
       "       [ 9352.33990982],\n",
       "       [ 9378.3801004 ],\n",
       "       [12994.57748768],\n",
       "       [13098.89251578],\n",
       "       [ 9733.43058709],\n",
       "       [ 8264.43003984],\n",
       "       [12298.27553648],\n",
       "       [17507.68271251],\n",
       "       [ 7224.72741633],\n",
       "       [ 9214.19715853],\n",
       "       [12788.74204799],\n",
       "       [17805.75966311],\n",
       "       [ 7908.65782598],\n",
       "       [10513.55219101],\n",
       "       [ 7366.64403153],\n",
       "       [15972.67442836],\n",
       "       [ 9576.60128945],\n",
       "       [ 7187.02006794],\n",
       "       [15508.80065429],\n",
       "       [14591.87579892],\n",
       "       [ 8113.42063551],\n",
       "       [ 9915.5628025 ],\n",
       "       [ 8539.0292156 ],\n",
       "       [10100.15393693],\n",
       "       [10288.08205495],\n",
       "       [ 8021.71758831],\n",
       "       [ 8884.91657665],\n",
       "       [ 9965.1815385 ],\n",
       "       [16202.16611623],\n",
       "       [ 9442.64885989],\n",
       "       [ 9895.80281464],\n",
       "       [ 9547.942173  ],\n",
       "       [ 7883.21047793],\n",
       "       [ 5277.97505239],\n",
       "       [ 6776.85334855],\n",
       "       [16996.97826197],\n",
       "       [ 9433.55480281],\n",
       "       [10681.66343974],\n",
       "       [ 8761.00136524],\n",
       "       [13578.17910876],\n",
       "       [13097.01587786],\n",
       "       [ 6340.99141104],\n",
       "       [14690.60069385],\n",
       "       [16177.09475966],\n",
       "       [ 5877.66055221],\n",
       "       [ 7713.88963444],\n",
       "       [10443.89017447],\n",
       "       [10739.01878399],\n",
       "       [15967.88092364],\n",
       "       [19306.8702593 ],\n",
       "       [12576.91018549],\n",
       "       [ 8226.76149242],\n",
       "       [ 7806.76064531],\n",
       "       [10966.27857619],\n",
       "       [13413.70063613],\n",
       "       [ 8867.50204174],\n",
       "       [13148.05383465],\n",
       "       [ 7439.98240782],\n",
       "       [ 8211.38634851],\n",
       "       [10816.22688305],\n",
       "       [20421.21015277],\n",
       "       [11094.98047256],\n",
       "       [13049.63944126],\n",
       "       [ 7446.05927825],\n",
       "       [18662.77678076],\n",
       "       [13806.65436659],\n",
       "       [ 8195.21796027],\n",
       "       [ 7508.37262135],\n",
       "       [ 9826.38416827],\n",
       "       [ 9156.11824878],\n",
       "       [10313.1041311 ],\n",
       "       [ 8607.35641321],\n",
       "       [10453.40721619],\n",
       "       [10824.75370144],\n",
       "       [ 7549.78616577],\n",
       "       [ 6198.96138259],\n",
       "       [11094.30032052],\n",
       "       [13085.26131661],\n",
       "       [ 9573.55135111],\n",
       "       [10949.68989462],\n",
       "       [ 7778.68665293],\n",
       "       [ 6516.79967085],\n",
       "       [10530.91305131],\n",
       "       [10857.69234472],\n",
       "       [12778.71535909],\n",
       "       [ 9244.86803177],\n",
       "       [21624.19313647],\n",
       "       [ 7847.58950474],\n",
       "       [14108.07722213],\n",
       "       [ 8643.7214757 ],\n",
       "       [10838.7706202 ],\n",
       "       [ 9650.81125469],\n",
       "       [10670.09165   ],\n",
       "       [16588.98004418],\n",
       "       [ 8834.33369204],\n",
       "       [ 7600.30829656],\n",
       "       [16698.41433105],\n",
       "       [ 7739.38343233],\n",
       "       [ 9696.06973143],\n",
       "       [ 8683.36299442],\n",
       "       [11756.775784  ],\n",
       "       [10602.74324841],\n",
       "       [ 9861.21117019],\n",
       "       [13859.88950679],\n",
       "       [ 9441.72335823],\n",
       "       [ 8139.02009213],\n",
       "       [ 6433.53498438],\n",
       "       [13484.02234381],\n",
       "       [12525.80067943],\n",
       "       [13999.06763696],\n",
       "       [ 7852.2209362 ],\n",
       "       [ 7314.19094528],\n",
       "       [ 8299.72365458],\n",
       "       [15263.5715055 ],\n",
       "       [11710.47558443],\n",
       "       [ 8906.2952052 ],\n",
       "       [13143.95406692],\n",
       "       [ 9080.28053831],\n",
       "       [ 8492.85237961],\n",
       "       [12657.30448516],\n",
       "       [11228.10866711],\n",
       "       [15417.39593651],\n",
       "       [10550.1049651 ],\n",
       "       [ 9467.37682586],\n",
       "       [ 6403.82732286],\n",
       "       [ 9377.34331607],\n",
       "       [10333.05674914],\n",
       "       [11602.20037329],\n",
       "       [ 8294.20556197],\n",
       "       [ 4827.18536872],\n",
       "       [12414.00842797],\n",
       "       [10874.42988258],\n",
       "       [12448.87592093],\n",
       "       [ 8371.28301552],\n",
       "       [12269.76504411],\n",
       "       [11364.64624089],\n",
       "       [ 7063.11871924],\n",
       "       [ 8599.23278138],\n",
       "       [ 8285.90087813],\n",
       "       [11327.93760014],\n",
       "       [10371.70136558],\n",
       "       [15916.39923149],\n",
       "       [ 8448.12180301],\n",
       "       [ 9129.98600828],\n",
       "       [11284.35330691],\n",
       "       [11069.50272046],\n",
       "       [ 8732.73692093],\n",
       "       [13368.86244793],\n",
       "       [10023.79473966],\n",
       "       [19081.93317915],\n",
       "       [11184.94032954],\n",
       "       [15494.05441018],\n",
       "       [15218.06431262],\n",
       "       [ 7719.2459595 ],\n",
       "       [ 8973.8564858 ],\n",
       "       [12852.44687005],\n",
       "       [ 7947.64335805],\n",
       "       [13588.94927727],\n",
       "       [ 8232.44940666],\n",
       "       [ 7551.81480685],\n",
       "       [ 8139.86434075],\n",
       "       [12414.15964873],\n",
       "       [ 9347.49884696],\n",
       "       [12896.3581088 ],\n",
       "       [10440.2551111 ],\n",
       "       [ 9420.50919859],\n",
       "       [16611.05439734],\n",
       "       [10722.42765527],\n",
       "       [ 9752.72785042],\n",
       "       [10565.12566922],\n",
       "       [12309.38091304],\n",
       "       [10999.32642129],\n",
       "       [13751.56433396],\n",
       "       [ 7812.8955215 ],\n",
       "       [ 9198.74408949],\n",
       "       [ 7552.2154783 ],\n",
       "       [ 5908.49930381],\n",
       "       [ 8249.39911215],\n",
       "       [ 9659.25182627],\n",
       "       [10956.01604494],\n",
       "       [ 9156.45986407],\n",
       "       [ 7437.14299676],\n",
       "       [ 6061.48483996],\n",
       "       [11242.99074369],\n",
       "       [10456.73275269],\n",
       "       [10999.89769903],\n",
       "       [ 6912.70064266],\n",
       "       [ 7189.36077893],\n",
       "       [ 9994.97425877],\n",
       "       [17615.27689373],\n",
       "       [ 9244.21312032],\n",
       "       [ 7697.74352333],\n",
       "       [ 6956.1295858 ],\n",
       "       [ 8671.18885062],\n",
       "       [15977.80056806],\n",
       "       [17019.36546147],\n",
       "       [10632.94444077],\n",
       "       [10056.07264504],\n",
       "       [10996.00687472],\n",
       "       [ 9114.81790972],\n",
       "       [ 9027.08754864],\n",
       "       [11194.3190378 ],\n",
       "       [ 9794.53502475],\n",
       "       [10198.13059984],\n",
       "       [ 6864.62764829],\n",
       "       [11751.79855747],\n",
       "       [ 7847.76374677],\n",
       "       [ 9243.56992594],\n",
       "       [ 7198.36342022],\n",
       "       [11460.78631369],\n",
       "       [ 8650.80900307],\n",
       "       [10651.92035542],\n",
       "       [10915.76995546],\n",
       "       [10136.6683313 ],\n",
       "       [17215.38439046],\n",
       "       [ 6494.23453827],\n",
       "       [16026.13387422],\n",
       "       [ 7432.17433033],\n",
       "       [13266.2579154 ],\n",
       "       [ 7301.35426348],\n",
       "       [12345.01866081],\n",
       "       [ 9604.77985833],\n",
       "       [26880.66315724],\n",
       "       [ 7821.38436928],\n",
       "       [ 9330.38380901],\n",
       "       [ 8279.71009893],\n",
       "       [13909.00008012],\n",
       "       [13223.05869107],\n",
       "       [10117.93332527],\n",
       "       [ 8564.44652609],\n",
       "       [13866.13339498],\n",
       "       [19067.34650338],\n",
       "       [13682.79120897],\n",
       "       [ 9596.99957169],\n",
       "       [20766.44384279],\n",
       "       [ 9726.07843634],\n",
       "       [ 9310.2019799 ],\n",
       "       [ 9948.3389447 ],\n",
       "       [10046.09376941],\n",
       "       [ 9157.02649644],\n",
       "       [ 8587.88668091],\n",
       "       [10445.25741089],\n",
       "       [ 8659.1819897 ],\n",
       "       [ 5262.10385269],\n",
       "       [10494.83018859],\n",
       "       [10846.99489944],\n",
       "       [ 6723.94398992],\n",
       "       [10063.68834351],\n",
       "       [13410.24056606],\n",
       "       [10978.21889685],\n",
       "       [12907.78296492],\n",
       "       [ 6943.57360983],\n",
       "       [ 5956.16207412],\n",
       "       [10667.79436419],\n",
       "       [ 6476.86359363],\n",
       "       [12250.81491281],\n",
       "       [13261.97882747],\n",
       "       [ 5248.20159791],\n",
       "       [ 8712.89266223],\n",
       "       [ 8003.03438377],\n",
       "       [13247.45678376],\n",
       "       [15536.79436792],\n",
       "       [ 6667.33824517],\n",
       "       [13561.89775962],\n",
       "       [ 7787.61020474],\n",
       "       [ 7232.5215136 ],\n",
       "       [ 8458.71566045],\n",
       "       [ 7770.11893953],\n",
       "       [ 6176.89756245],\n",
       "       [22899.36886512],\n",
       "       [22989.73086875],\n",
       "       [10298.34418488],\n",
       "       [ 7191.65132121],\n",
       "       [19042.14271026],\n",
       "       [ 8132.45595927],\n",
       "       [13588.76282264],\n",
       "       [10702.2350185 ],\n",
       "       [10790.74617266]])"
      ]
     },
     "execution_count": 42,
     "metadata": {},
     "output_type": "execute_result"
    }
   ],
   "source": [
    "y_pred"
   ]
  },
  {
   "cell_type": "code",
   "execution_count": 43,
   "id": "4a06b137",
   "metadata": {},
   "outputs": [
    {
     "data": {
      "text/html": [
       "<div>\n",
       "<style scoped>\n",
       "    .dataframe tbody tr th:only-of-type {\n",
       "        vertical-align: middle;\n",
       "    }\n",
       "\n",
       "    .dataframe tbody tr th {\n",
       "        vertical-align: top;\n",
       "    }\n",
       "\n",
       "    .dataframe thead th {\n",
       "        text-align: right;\n",
       "    }\n",
       "</style>\n",
       "<table border=\"1\" class=\"dataframe\">\n",
       "  <thead>\n",
       "    <tr style=\"text-align: right;\">\n",
       "      <th></th>\n",
       "      <th>Price</th>\n",
       "    </tr>\n",
       "  </thead>\n",
       "  <tbody>\n",
       "    <tr>\n",
       "      <th>594</th>\n",
       "      <td>10800</td>\n",
       "    </tr>\n",
       "    <tr>\n",
       "      <th>754</th>\n",
       "      <td>9950</td>\n",
       "    </tr>\n",
       "    <tr>\n",
       "      <th>630</th>\n",
       "      <td>7500</td>\n",
       "    </tr>\n",
       "    <tr>\n",
       "      <th>1259</th>\n",
       "      <td>9250</td>\n",
       "    </tr>\n",
       "    <tr>\n",
       "      <th>903</th>\n",
       "      <td>9750</td>\n",
       "    </tr>\n",
       "    <tr>\n",
       "      <th>...</th>\n",
       "      <td>...</td>\n",
       "    </tr>\n",
       "    <tr>\n",
       "      <th>174</th>\n",
       "      <td>21950</td>\n",
       "    </tr>\n",
       "    <tr>\n",
       "      <th>1428</th>\n",
       "      <td>8450</td>\n",
       "    </tr>\n",
       "    <tr>\n",
       "      <th>297</th>\n",
       "      <td>12850</td>\n",
       "    </tr>\n",
       "    <tr>\n",
       "      <th>1435</th>\n",
       "      <td>6950</td>\n",
       "    </tr>\n",
       "    <tr>\n",
       "      <th>1009</th>\n",
       "      <td>8900</td>\n",
       "    </tr>\n",
       "  </tbody>\n",
       "</table>\n",
       "<p>288 rows × 1 columns</p>\n",
       "</div>"
      ],
      "text/plain": [
       "      Price\n",
       "594   10800\n",
       "754    9950\n",
       "630    7500\n",
       "1259   9250\n",
       "903    9750\n",
       "...     ...\n",
       "174   21950\n",
       "1428   8450\n",
       "297   12850\n",
       "1435   6950\n",
       "1009   8900\n",
       "\n",
       "[288 rows x 1 columns]"
      ]
     },
     "execution_count": 43,
     "metadata": {},
     "output_type": "execute_result"
    }
   ],
   "source": [
    "y_test"
   ]
  },
  {
   "cell_type": "code",
   "execution_count": 44,
   "id": "ffc97fd9",
   "metadata": {},
   "outputs": [],
   "source": [
    "df=pd.DataFrame()\n",
    "df[\"Actual\"]=y_test\n",
    "df[\"Prediction\"]=y_pred\n",
    "df.reset_index(inplace=True,drop=True)"
   ]
  },
  {
   "cell_type": "code",
   "execution_count": 45,
   "id": "f949e8ed",
   "metadata": {},
   "outputs": [
    {
     "data": {
      "text/html": [
       "<div>\n",
       "<style scoped>\n",
       "    .dataframe tbody tr th:only-of-type {\n",
       "        vertical-align: middle;\n",
       "    }\n",
       "\n",
       "    .dataframe tbody tr th {\n",
       "        vertical-align: top;\n",
       "    }\n",
       "\n",
       "    .dataframe thead th {\n",
       "        text-align: right;\n",
       "    }\n",
       "</style>\n",
       "<table border=\"1\" class=\"dataframe\">\n",
       "  <thead>\n",
       "    <tr style=\"text-align: right;\">\n",
       "      <th></th>\n",
       "      <th>Actual</th>\n",
       "      <th>Prediction</th>\n",
       "    </tr>\n",
       "  </thead>\n",
       "  <tbody>\n",
       "    <tr>\n",
       "      <th>0</th>\n",
       "      <td>10800</td>\n",
       "      <td>11334.877221</td>\n",
       "    </tr>\n",
       "    <tr>\n",
       "      <th>1</th>\n",
       "      <td>9950</td>\n",
       "      <td>8930.649456</td>\n",
       "    </tr>\n",
       "    <tr>\n",
       "      <th>2</th>\n",
       "      <td>7500</td>\n",
       "      <td>9548.864621</td>\n",
       "    </tr>\n",
       "    <tr>\n",
       "      <th>3</th>\n",
       "      <td>9250</td>\n",
       "      <td>8965.065760</td>\n",
       "    </tr>\n",
       "    <tr>\n",
       "      <th>4</th>\n",
       "      <td>9750</td>\n",
       "      <td>10038.782357</td>\n",
       "    </tr>\n",
       "    <tr>\n",
       "      <th>...</th>\n",
       "      <td>...</td>\n",
       "      <td>...</td>\n",
       "    </tr>\n",
       "    <tr>\n",
       "      <th>283</th>\n",
       "      <td>21950</td>\n",
       "      <td>19042.142710</td>\n",
       "    </tr>\n",
       "    <tr>\n",
       "      <th>284</th>\n",
       "      <td>8450</td>\n",
       "      <td>8132.455959</td>\n",
       "    </tr>\n",
       "    <tr>\n",
       "      <th>285</th>\n",
       "      <td>12850</td>\n",
       "      <td>13588.762823</td>\n",
       "    </tr>\n",
       "    <tr>\n",
       "      <th>286</th>\n",
       "      <td>6950</td>\n",
       "      <td>10702.235018</td>\n",
       "    </tr>\n",
       "    <tr>\n",
       "      <th>287</th>\n",
       "      <td>8900</td>\n",
       "      <td>10790.746173</td>\n",
       "    </tr>\n",
       "  </tbody>\n",
       "</table>\n",
       "<p>288 rows × 2 columns</p>\n",
       "</div>"
      ],
      "text/plain": [
       "     Actual    Prediction\n",
       "0     10800  11334.877221\n",
       "1      9950   8930.649456\n",
       "2      7500   9548.864621\n",
       "3      9250   8965.065760\n",
       "4      9750  10038.782357\n",
       "..      ...           ...\n",
       "283   21950  19042.142710\n",
       "284    8450   8132.455959\n",
       "285   12850  13588.762823\n",
       "286    6950  10702.235018\n",
       "287    8900  10790.746173\n",
       "\n",
       "[288 rows x 2 columns]"
      ]
     },
     "execution_count": 45,
     "metadata": {},
     "output_type": "execute_result"
    }
   ],
   "source": [
    "df"
   ]
  },
  {
   "cell_type": "code",
   "execution_count": 46,
   "id": "d0ead503",
   "metadata": {
    "scrolled": true
   },
   "outputs": [
    {
     "data": {
      "text/plain": [
       "[<matplotlib.lines.Line2D at 0x1b5711155e0>]"
      ]
     },
     "execution_count": 46,
     "metadata": {},
     "output_type": "execute_result"
    },
    {
     "data": {
      "image/png": "[encoded data removed]",
      "text/plain": [
       "<Figure size 640x480 with 1 Axes>"
      ]
     },
     "metadata": {},
     "output_type": "display_data"
    }
   ],
   "source": [
    "plt.plot(df[\"Actual\"])\n",
    "plt.plot(df[\"Prediction\"],c=\"r\")"
   ]
  },
  {
   "cell_type": "code",
   "execution_count": 47,
   "id": "74c3c14f",
   "metadata": {},
   "outputs": [],
   "source": [
    "from sklearn.metrics import r2_score,mean_squared_error"
   ]
  },
  {
   "cell_type": "code",
   "execution_count": 48,
   "id": "1bb2ef9a",
   "metadata": {},
   "outputs": [
    {
     "data": {
      "text/plain": [
       "83.24181239699008"
      ]
     },
     "execution_count": 48,
     "metadata": {},
     "output_type": "execute_result"
    }
   ],
   "source": [
    "r2_score(y_pred,y_test)*100"
   ]
  }
 ],
 "metadata": {
  "kernelspec": {
   "display_name": "Python 3 (ipykernel)",
   "language": "python",
   "name": "python3"
  },
  "language_info": {
   "codemirror_mode": {
    "name": "ipython",
    "version": 3
   },
   "file_extension": ".py",
   "mimetype": "text/x-python",
   "name": "python",
   "nbconvert_exporter": "python",
   "pygments_lexer": "ipython3",
   "version": "3.9.13"
  }
 },
 "nbformat": 4,
 "nbformat_minor": 5
}
