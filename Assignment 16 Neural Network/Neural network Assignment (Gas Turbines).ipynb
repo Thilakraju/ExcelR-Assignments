{
 "cells": [
  {
   "cell_type": "raw",
   "id": "94784366",
   "metadata": {},
   "source": [
    "Q2.predicting turbine energy yield (TEY) using ambient variables as features."
   ]
  },
  {
   "cell_type": "code",
   "execution_count": 19,
   "id": "8cfdfc9b",
   "metadata": {},
   "outputs": [],
   "source": [
    "import pandas as pd\n",
    "import numpy as np\n",
    "import matplotlib.pyplot as plt\n",
    "from sklearn.model_selection import train_test_split\n",
    "from sklearn.preprocessing import StandardScaler\n",
    "from tensorflow.keras.models import Sequential\n",
    "from tensorflow.keras.layers import Dense\n",
    "from tensorflow.keras.optimizers import Adam\n",
    "from sklearn.metrics import mean_absolute_error, mean_squared_error, r2_score\n",
    "from sklearn import preprocessing\n",
    "import seaborn as sns"
   ]
  },
  {
   "cell_type": "code",
   "execution_count": 2,
   "id": "b49ab909",
   "metadata": {},
   "outputs": [],
   "source": [
    "df = pd.read_csv('gas_turbines.csv')"
   ]
  },
  {
   "cell_type": "code",
   "execution_count": 3,
   "id": "903bb971",
   "metadata": {
    "scrolled": true
   },
   "outputs": [
    {
     "data": {
      "text/html": [
       "<div>\n",
       "<style scoped>\n",
       "    .dataframe tbody tr th:only-of-type {\n",
       "        vertical-align: middle;\n",
       "    }\n",
       "\n",
       "    .dataframe tbody tr th {\n",
       "        vertical-align: top;\n",
       "    }\n",
       "\n",
       "    .dataframe thead th {\n",
       "        text-align: right;\n",
       "    }\n",
       "</style>\n",
       "<table border=\"1\" class=\"dataframe\">\n",
       "  <thead>\n",
       "    <tr style=\"text-align: right;\">\n",
       "      <th></th>\n",
       "      <th>AT</th>\n",
       "      <th>AP</th>\n",
       "      <th>AH</th>\n",
       "      <th>AFDP</th>\n",
       "      <th>GTEP</th>\n",
       "      <th>TIT</th>\n",
       "      <th>TAT</th>\n",
       "      <th>TEY</th>\n",
       "      <th>CDP</th>\n",
       "      <th>CO</th>\n",
       "      <th>NOX</th>\n",
       "    </tr>\n",
       "  </thead>\n",
       "  <tbody>\n",
       "    <tr>\n",
       "      <th>0</th>\n",
       "      <td>6.8594</td>\n",
       "      <td>1007.9</td>\n",
       "      <td>96.799</td>\n",
       "      <td>3.5000</td>\n",
       "      <td>19.663</td>\n",
       "      <td>1059.2</td>\n",
       "      <td>550.00</td>\n",
       "      <td>114.70</td>\n",
       "      <td>10.605</td>\n",
       "      <td>3.1547</td>\n",
       "      <td>82.722</td>\n",
       "    </tr>\n",
       "    <tr>\n",
       "      <th>1</th>\n",
       "      <td>6.7850</td>\n",
       "      <td>1008.4</td>\n",
       "      <td>97.118</td>\n",
       "      <td>3.4998</td>\n",
       "      <td>19.728</td>\n",
       "      <td>1059.3</td>\n",
       "      <td>550.00</td>\n",
       "      <td>114.72</td>\n",
       "      <td>10.598</td>\n",
       "      <td>3.2363</td>\n",
       "      <td>82.776</td>\n",
       "    </tr>\n",
       "    <tr>\n",
       "      <th>2</th>\n",
       "      <td>6.8977</td>\n",
       "      <td>1008.8</td>\n",
       "      <td>95.939</td>\n",
       "      <td>3.4824</td>\n",
       "      <td>19.779</td>\n",
       "      <td>1059.4</td>\n",
       "      <td>549.87</td>\n",
       "      <td>114.71</td>\n",
       "      <td>10.601</td>\n",
       "      <td>3.2012</td>\n",
       "      <td>82.468</td>\n",
       "    </tr>\n",
       "    <tr>\n",
       "      <th>3</th>\n",
       "      <td>7.0569</td>\n",
       "      <td>1009.2</td>\n",
       "      <td>95.249</td>\n",
       "      <td>3.4805</td>\n",
       "      <td>19.792</td>\n",
       "      <td>1059.6</td>\n",
       "      <td>549.99</td>\n",
       "      <td>114.72</td>\n",
       "      <td>10.606</td>\n",
       "      <td>3.1923</td>\n",
       "      <td>82.670</td>\n",
       "    </tr>\n",
       "    <tr>\n",
       "      <th>4</th>\n",
       "      <td>7.3978</td>\n",
       "      <td>1009.7</td>\n",
       "      <td>95.150</td>\n",
       "      <td>3.4976</td>\n",
       "      <td>19.765</td>\n",
       "      <td>1059.7</td>\n",
       "      <td>549.98</td>\n",
       "      <td>114.72</td>\n",
       "      <td>10.612</td>\n",
       "      <td>3.2484</td>\n",
       "      <td>82.311</td>\n",
       "    </tr>\n",
       "  </tbody>\n",
       "</table>\n",
       "</div>"
      ],
      "text/plain": [
       "       AT      AP      AH    AFDP    GTEP     TIT     TAT     TEY     CDP  \\\n",
       "0  6.8594  1007.9  96.799  3.5000  19.663  1059.2  550.00  114.70  10.605   \n",
       "1  6.7850  1008.4  97.118  3.4998  19.728  1059.3  550.00  114.72  10.598   \n",
       "2  6.8977  1008.8  95.939  3.4824  19.779  1059.4  549.87  114.71  10.601   \n",
       "3  7.0569  1009.2  95.249  3.4805  19.792  1059.6  549.99  114.72  10.606   \n",
       "4  7.3978  1009.7  95.150  3.4976  19.765  1059.7  549.98  114.72  10.612   \n",
       "\n",
       "       CO     NOX  \n",
       "0  3.1547  82.722  \n",
       "1  3.2363  82.776  \n",
       "2  3.2012  82.468  \n",
       "3  3.1923  82.670  \n",
       "4  3.2484  82.311  "
      ]
     },
     "execution_count": 3,
     "metadata": {},
     "output_type": "execute_result"
    }
   ],
   "source": [
    "df.head()"
   ]
  },
  {
   "cell_type": "markdown",
   "id": "d28a3f4f",
   "metadata": {},
   "source": [
    "# Performing EDA"
   ]
  },
  {
   "cell_type": "code",
   "execution_count": 4,
   "id": "a53688ad",
   "metadata": {},
   "outputs": [],
   "source": [
    "df=df.drop(\"AFDP\",axis=1) #Since problem statement is for ambient variables dropping unwanted headers.\n",
    "df=df.drop(\"GTEP\",axis=1)\n",
    "df=df.drop(\"TIT\",axis=1)\n",
    "df=df.drop(\"TAT\",axis=1)\n",
    "df=df.drop(\"CDP\",axis=1)\n",
    "df=df.drop(\"CO\",axis=1)\n",
    "df=df.drop(\"NOX\",axis=1)"
   ]
  },
  {
   "cell_type": "code",
   "execution_count": 5,
   "id": "f3326d2f",
   "metadata": {},
   "outputs": [
    {
     "data": {
      "text/html": [
       "<div>\n",
       "<style scoped>\n",
       "    .dataframe tbody tr th:only-of-type {\n",
       "        vertical-align: middle;\n",
       "    }\n",
       "\n",
       "    .dataframe tbody tr th {\n",
       "        vertical-align: top;\n",
       "    }\n",
       "\n",
       "    .dataframe thead th {\n",
       "        text-align: right;\n",
       "    }\n",
       "</style>\n",
       "<table border=\"1\" class=\"dataframe\">\n",
       "  <thead>\n",
       "    <tr style=\"text-align: right;\">\n",
       "      <th></th>\n",
       "      <th>AT</th>\n",
       "      <th>AP</th>\n",
       "      <th>AH</th>\n",
       "      <th>TEY</th>\n",
       "    </tr>\n",
       "  </thead>\n",
       "  <tbody>\n",
       "    <tr>\n",
       "      <th>0</th>\n",
       "      <td>6.8594</td>\n",
       "      <td>1007.9</td>\n",
       "      <td>96.799</td>\n",
       "      <td>114.70</td>\n",
       "    </tr>\n",
       "    <tr>\n",
       "      <th>1</th>\n",
       "      <td>6.7850</td>\n",
       "      <td>1008.4</td>\n",
       "      <td>97.118</td>\n",
       "      <td>114.72</td>\n",
       "    </tr>\n",
       "    <tr>\n",
       "      <th>2</th>\n",
       "      <td>6.8977</td>\n",
       "      <td>1008.8</td>\n",
       "      <td>95.939</td>\n",
       "      <td>114.71</td>\n",
       "    </tr>\n",
       "    <tr>\n",
       "      <th>3</th>\n",
       "      <td>7.0569</td>\n",
       "      <td>1009.2</td>\n",
       "      <td>95.249</td>\n",
       "      <td>114.72</td>\n",
       "    </tr>\n",
       "    <tr>\n",
       "      <th>4</th>\n",
       "      <td>7.3978</td>\n",
       "      <td>1009.7</td>\n",
       "      <td>95.150</td>\n",
       "      <td>114.72</td>\n",
       "    </tr>\n",
       "  </tbody>\n",
       "</table>\n",
       "</div>"
      ],
      "text/plain": [
       "       AT      AP      AH     TEY\n",
       "0  6.8594  1007.9  96.799  114.70\n",
       "1  6.7850  1008.4  97.118  114.72\n",
       "2  6.8977  1008.8  95.939  114.71\n",
       "3  7.0569  1009.2  95.249  114.72\n",
       "4  7.3978  1009.7  95.150  114.72"
      ]
     },
     "execution_count": 5,
     "metadata": {},
     "output_type": "execute_result"
    }
   ],
   "source": [
    "df.head()"
   ]
  },
  {
   "cell_type": "code",
   "execution_count": 6,
   "id": "120dda06",
   "metadata": {
    "scrolled": true
   },
   "outputs": [
    {
     "name": "stdout",
     "output_type": "stream",
     "text": [
      "<class 'pandas.core.frame.DataFrame'>\n",
      "RangeIndex: 15039 entries, 0 to 15038\n",
      "Data columns (total 4 columns):\n",
      " #   Column  Non-Null Count  Dtype  \n",
      "---  ------  --------------  -----  \n",
      " 0   AT      15039 non-null  float64\n",
      " 1   AP      15039 non-null  float64\n",
      " 2   AH      15039 non-null  float64\n",
      " 3   TEY     15039 non-null  float64\n",
      "dtypes: float64(4)\n",
      "memory usage: 470.1 KB\n"
     ]
    }
   ],
   "source": [
    "df.info()"
   ]
  },
  {
   "cell_type": "markdown",
   "id": "7c408d68",
   "metadata": {},
   "source": [
    "# Train | Split dataset"
   ]
  },
  {
   "cell_type": "code",
   "execution_count": 7,
   "id": "ad8d7435",
   "metadata": {},
   "outputs": [],
   "source": [
    "X =df.iloc[:,:-1]\n",
    "Y = df.iloc[:,-1]\n",
    "\n",
    "\n",
    "X_train, X_test, y_train, y_test = train_test_split(X,Y, test_size = 0.3)"
   ]
  },
  {
   "cell_type": "markdown",
   "id": "33ef84ce",
   "metadata": {},
   "source": [
    "A common mistake when configuring a neural network is to first normalize the data before splitting the data."
   ]
  },
  {
   "cell_type": "code",
   "execution_count": 8,
   "id": "33b605ab",
   "metadata": {},
   "outputs": [],
   "source": [
    "y_train=np.reshape(y_train.to_numpy(), (-1,1)) \n",
    "y_test=np.reshape(y_test.to_numpy(), (-1,1)) "
   ]
  },
  {
   "cell_type": "code",
   "execution_count": 9,
   "id": "4bed40ed",
   "metadata": {},
   "outputs": [
    {
     "name": "stdout",
     "output_type": "stream",
     "text": [
      "MinMaxScaler()\n",
      "MinMaxScaler()\n",
      "MinMaxScaler()\n",
      "MinMaxScaler()\n"
     ]
    }
   ],
   "source": [
    "from sklearn.preprocessing import MinMaxScaler\n",
    "\n",
    "scaler_x = MinMaxScaler()\n",
    "scaler_y = MinMaxScaler()\n",
    "\n",
    "print(scaler_x.fit(X_train))\n",
    "xtrain_scale=scaler_x.transform(X_train)\n",
    "\n",
    "print(scaler_x.fit(X_test))\n",
    "xtest_scale=scaler_x.transform(X_test)\n",
    "\n",
    "print(scaler_y.fit(y_train))\n",
    "ytrain_scale=scaler_y.transform(y_train)\n",
    "\n",
    "print(scaler_y.fit(y_test))\n",
    "ytest_scale=scaler_y.transform(y_test)"
   ]
  },
  {
   "cell_type": "code",
   "execution_count": 10,
   "id": "7f0066c5",
   "metadata": {},
   "outputs": [
    {
     "data": {
      "text/plain": [
       "10527"
      ]
     },
     "execution_count": 10,
     "metadata": {},
     "output_type": "execute_result"
    }
   ],
   "source": [
    "len(xtrain_scale)"
   ]
  },
  {
   "cell_type": "markdown",
   "id": "19f5f10d",
   "metadata": {},
   "source": [
    "# Neural Network Modelling"
   ]
  },
  {
   "cell_type": "markdown",
   "id": "fca00555",
   "metadata": {},
   "source": [
    "Building the Model"
   ]
  },
  {
   "cell_type": "code",
   "execution_count": 11,
   "id": "bb482cc6",
   "metadata": {},
   "outputs": [],
   "source": [
    "# Create your first MLP in Keras\n",
    "import keras \n",
    "from keras.models import Sequential\n",
    "from keras.layers import Dense"
   ]
  },
  {
   "cell_type": "code",
   "execution_count": 12,
   "id": "f87208a5",
   "metadata": {},
   "outputs": [
    {
     "name": "stdout",
     "output_type": "stream",
     "text": [
      "Epoch 1/100\n",
      "48/48 [==============================] - 1s 6ms/step - loss: 0.0770 - mse: 0.0770 - mae: 0.2134 - val_loss: 0.0457 - val_mse: 0.0457 - val_mae: 0.1543\n",
      "Epoch 2/100\n",
      "48/48 [==============================] - 0s 4ms/step - loss: 0.0468 - mse: 0.0468 - mae: 0.1558 - val_loss: 0.0453 - val_mse: 0.0453 - val_mae: 0.1503\n",
      "Epoch 3/100\n",
      "48/48 [==============================] - 0s 3ms/step - loss: 0.0467 - mse: 0.0467 - mae: 0.1566 - val_loss: 0.0452 - val_mse: 0.0452 - val_mae: 0.1538\n",
      "Epoch 4/100\n",
      "48/48 [==============================] - 0s 3ms/step - loss: 0.0461 - mse: 0.0461 - mae: 0.1563 - val_loss: 0.0443 - val_mse: 0.0443 - val_mae: 0.1516\n",
      "Epoch 5/100\n",
      "48/48 [==============================] - 0s 3ms/step - loss: 0.0453 - mse: 0.0453 - mae: 0.1568 - val_loss: 0.0435 - val_mse: 0.0435 - val_mae: 0.1522\n",
      "Epoch 6/100\n",
      "48/48 [==============================] - 0s 3ms/step - loss: 0.0441 - mse: 0.0441 - mae: 0.1568 - val_loss: 0.0428 - val_mse: 0.0428 - val_mae: 0.1552\n",
      "Epoch 7/100\n",
      "48/48 [==============================] - 0s 4ms/step - loss: 0.0435 - mse: 0.0435 - mae: 0.1592 - val_loss: 0.0438 - val_mse: 0.0438 - val_mae: 0.1608\n",
      "Epoch 8/100\n",
      "48/48 [==============================] - 0s 4ms/step - loss: 0.0432 - mse: 0.0432 - mae: 0.1616 - val_loss: 0.0418 - val_mse: 0.0418 - val_mae: 0.1560\n",
      "Epoch 9/100\n",
      "48/48 [==============================] - 0s 5ms/step - loss: 0.0425 - mse: 0.0425 - mae: 0.1605 - val_loss: 0.0417 - val_mse: 0.0417 - val_mae: 0.1575\n",
      "Epoch 10/100\n",
      "48/48 [==============================] - 0s 5ms/step - loss: 0.0420 - mse: 0.0420 - mae: 0.1600 - val_loss: 0.0428 - val_mse: 0.0428 - val_mae: 0.1644\n",
      "Epoch 11/100\n",
      "48/48 [==============================] - 0s 5ms/step - loss: 0.0431 - mse: 0.0431 - mae: 0.1643 - val_loss: 0.0422 - val_mse: 0.0422 - val_mae: 0.1593\n",
      "Epoch 12/100\n",
      "48/48 [==============================] - 0s 5ms/step - loss: 0.0415 - mse: 0.0415 - mae: 0.1596 - val_loss: 0.0419 - val_mse: 0.0419 - val_mae: 0.1606\n",
      "Epoch 13/100\n",
      "48/48 [==============================] - 0s 5ms/step - loss: 0.0413 - mse: 0.0413 - mae: 0.1612 - val_loss: 0.0416 - val_mse: 0.0416 - val_mae: 0.1598\n",
      "Epoch 14/100\n",
      "48/48 [==============================] - 0s 5ms/step - loss: 0.0412 - mse: 0.0412 - mae: 0.1612 - val_loss: 0.0415 - val_mse: 0.0415 - val_mae: 0.1631\n",
      "Epoch 15/100\n",
      "48/48 [==============================] - 0s 5ms/step - loss: 0.0415 - mse: 0.0415 - mae: 0.1619 - val_loss: 0.0413 - val_mse: 0.0413 - val_mae: 0.1595\n",
      "Epoch 16/100\n",
      "48/48 [==============================] - 0s 5ms/step - loss: 0.0411 - mse: 0.0411 - mae: 0.1607 - val_loss: 0.0408 - val_mse: 0.0408 - val_mae: 0.1593\n",
      "Epoch 17/100\n",
      "48/48 [==============================] - 0s 5ms/step - loss: 0.0412 - mse: 0.0412 - mae: 0.1614 - val_loss: 0.0429 - val_mse: 0.0429 - val_mae: 0.1638\n",
      "Epoch 18/100\n",
      "48/48 [==============================] - 0s 6ms/step - loss: 0.0413 - mse: 0.0413 - mae: 0.1613 - val_loss: 0.0407 - val_mse: 0.0407 - val_mae: 0.1601\n",
      "Epoch 19/100\n",
      "48/48 [==============================] - 0s 5ms/step - loss: 0.0408 - mse: 0.0408 - mae: 0.1609 - val_loss: 0.0408 - val_mse: 0.0408 - val_mae: 0.1602\n",
      "Epoch 20/100\n",
      "48/48 [==============================] - 0s 5ms/step - loss: 0.0408 - mse: 0.0408 - mae: 0.1614 - val_loss: 0.0409 - val_mse: 0.0409 - val_mae: 0.1597\n",
      "Epoch 21/100\n",
      "48/48 [==============================] - 0s 5ms/step - loss: 0.0407 - mse: 0.0407 - mae: 0.1604 - val_loss: 0.0406 - val_mse: 0.0406 - val_mae: 0.1594\n",
      "Epoch 22/100\n",
      "48/48 [==============================] - 0s 5ms/step - loss: 0.0409 - mse: 0.0409 - mae: 0.1613 - val_loss: 0.0406 - val_mse: 0.0406 - val_mae: 0.1591\n",
      "Epoch 23/100\n",
      "48/48 [==============================] - 0s 5ms/step - loss: 0.0408 - mse: 0.0408 - mae: 0.1612 - val_loss: 0.0420 - val_mse: 0.0420 - val_mae: 0.1614\n",
      "Epoch 24/100\n",
      "48/48 [==============================] - 0s 5ms/step - loss: 0.0409 - mse: 0.0409 - mae: 0.1606 - val_loss: 0.0420 - val_mse: 0.0420 - val_mae: 0.1619\n",
      "Epoch 25/100\n",
      "48/48 [==============================] - 0s 5ms/step - loss: 0.0413 - mse: 0.0413 - mae: 0.1622 - val_loss: 0.0434 - val_mse: 0.0434 - val_mae: 0.1651\n",
      "Epoch 26/100\n",
      "48/48 [==============================] - 0s 5ms/step - loss: 0.0409 - mse: 0.0409 - mae: 0.1611 - val_loss: 0.0412 - val_mse: 0.0412 - val_mae: 0.1603\n",
      "Epoch 27/100\n",
      "48/48 [==============================] - 0s 5ms/step - loss: 0.0408 - mse: 0.0408 - mae: 0.1614 - val_loss: 0.0405 - val_mse: 0.0405 - val_mae: 0.1594\n",
      "Epoch 28/100\n",
      "48/48 [==============================] - 0s 5ms/step - loss: 0.0408 - mse: 0.0408 - mae: 0.1609 - val_loss: 0.0405 - val_mse: 0.0405 - val_mae: 0.1593\n",
      "Epoch 29/100\n",
      "48/48 [==============================] - 0s 5ms/step - loss: 0.0402 - mse: 0.0402 - mae: 0.1599 - val_loss: 0.0446 - val_mse: 0.0446 - val_mae: 0.1678\n",
      "Epoch 30/100\n",
      "48/48 [==============================] - 0s 5ms/step - loss: 0.0410 - mse: 0.0410 - mae: 0.1614 - val_loss: 0.0405 - val_mse: 0.0405 - val_mae: 0.1604\n",
      "Epoch 31/100\n",
      "48/48 [==============================] - 0s 5ms/step - loss: 0.0406 - mse: 0.0406 - mae: 0.1612 - val_loss: 0.0408 - val_mse: 0.0408 - val_mae: 0.1592\n",
      "Epoch 32/100\n",
      "48/48 [==============================] - 0s 5ms/step - loss: 0.0405 - mse: 0.0405 - mae: 0.1603 - val_loss: 0.0406 - val_mse: 0.0406 - val_mae: 0.1609\n",
      "Epoch 33/100\n",
      "48/48 [==============================] - 0s 5ms/step - loss: 0.0402 - mse: 0.0402 - mae: 0.1597 - val_loss: 0.0406 - val_mse: 0.0406 - val_mae: 0.1589\n",
      "Epoch 34/100\n",
      "48/48 [==============================] - 0s 5ms/step - loss: 0.0404 - mse: 0.0404 - mae: 0.1597 - val_loss: 0.0414 - val_mse: 0.0414 - val_mae: 0.1631\n",
      "Epoch 35/100\n",
      "48/48 [==============================] - 0s 5ms/step - loss: 0.0411 - mse: 0.0411 - mae: 0.1616 - val_loss: 0.0404 - val_mse: 0.0404 - val_mae: 0.1584\n",
      "Epoch 36/100\n",
      "48/48 [==============================] - 0s 5ms/step - loss: 0.0403 - mse: 0.0403 - mae: 0.1599 - val_loss: 0.0408 - val_mse: 0.0408 - val_mae: 0.1603\n",
      "Epoch 37/100\n",
      "48/48 [==============================] - 0s 5ms/step - loss: 0.0405 - mse: 0.0405 - mae: 0.1597 - val_loss: 0.0414 - val_mse: 0.0414 - val_mae: 0.1605\n",
      "Epoch 38/100\n",
      "48/48 [==============================] - 0s 4ms/step - loss: 0.0403 - mse: 0.0403 - mae: 0.1592 - val_loss: 0.0411 - val_mse: 0.0411 - val_mae: 0.1592\n",
      "Epoch 39/100\n",
      "48/48 [==============================] - 0s 5ms/step - loss: 0.0404 - mse: 0.0404 - mae: 0.1590 - val_loss: 0.0414 - val_mse: 0.0414 - val_mae: 0.1606\n",
      "Epoch 40/100\n",
      "48/48 [==============================] - 0s 5ms/step - loss: 0.0399 - mse: 0.0399 - mae: 0.1587 - val_loss: 0.0409 - val_mse: 0.0409 - val_mae: 0.1595\n",
      "Epoch 41/100\n",
      "48/48 [==============================] - 0s 5ms/step - loss: 0.0400 - mse: 0.0400 - mae: 0.1592 - val_loss: 0.0414 - val_mse: 0.0414 - val_mae: 0.1610\n",
      "Epoch 42/100\n",
      "48/48 [==============================] - 0s 5ms/step - loss: 0.0401 - mse: 0.0401 - mae: 0.1598 - val_loss: 0.0407 - val_mse: 0.0407 - val_mae: 0.1609\n",
      "Epoch 43/100\n",
      "48/48 [==============================] - 0s 5ms/step - loss: 0.0405 - mse: 0.0405 - mae: 0.1601 - val_loss: 0.0409 - val_mse: 0.0409 - val_mae: 0.1601\n",
      "Epoch 44/100\n",
      "48/48 [==============================] - 0s 4ms/step - loss: 0.0401 - mse: 0.0401 - mae: 0.1599 - val_loss: 0.0417 - val_mse: 0.0417 - val_mae: 0.1610\n",
      "Epoch 45/100\n",
      "48/48 [==============================] - 0s 4ms/step - loss: 0.0401 - mse: 0.0401 - mae: 0.1592 - val_loss: 0.0425 - val_mse: 0.0425 - val_mae: 0.1633\n",
      "Epoch 46/100\n",
      "48/48 [==============================] - 0s 5ms/step - loss: 0.0400 - mse: 0.0400 - mae: 0.1590 - val_loss: 0.0406 - val_mse: 0.0406 - val_mae: 0.1602\n",
      "Epoch 47/100\n",
      "48/48 [==============================] - 0s 4ms/step - loss: 0.0400 - mse: 0.0400 - mae: 0.1590 - val_loss: 0.0403 - val_mse: 0.0403 - val_mae: 0.1606\n",
      "Epoch 48/100\n",
      "48/48 [==============================] - 0s 4ms/step - loss: 0.0400 - mse: 0.0400 - mae: 0.1591 - val_loss: 0.0408 - val_mse: 0.0408 - val_mae: 0.1587\n",
      "Epoch 49/100\n",
      "48/48 [==============================] - 0s 4ms/step - loss: 0.0405 - mse: 0.0405 - mae: 0.1603 - val_loss: 0.0426 - val_mse: 0.0426 - val_mae: 0.1639\n",
      "Epoch 50/100\n",
      "48/48 [==============================] - 0s 4ms/step - loss: 0.0405 - mse: 0.0405 - mae: 0.1610 - val_loss: 0.0418 - val_mse: 0.0418 - val_mae: 0.1620\n",
      "Epoch 51/100\n"
     ]
    },
    {
     "name": "stdout",
     "output_type": "stream",
     "text": [
      "48/48 [==============================] - 0s 4ms/step - loss: 0.0401 - mse: 0.0401 - mae: 0.1604 - val_loss: 0.0403 - val_mse: 0.0403 - val_mae: 0.1578\n",
      "Epoch 52/100\n",
      "48/48 [==============================] - 0s 5ms/step - loss: 0.0400 - mse: 0.0400 - mae: 0.1585 - val_loss: 0.0403 - val_mse: 0.0403 - val_mae: 0.1584\n",
      "Epoch 53/100\n",
      "48/48 [==============================] - 0s 5ms/step - loss: 0.0405 - mse: 0.0405 - mae: 0.1607 - val_loss: 0.0402 - val_mse: 0.0402 - val_mae: 0.1583\n",
      "Epoch 54/100\n",
      "48/48 [==============================] - 0s 5ms/step - loss: 0.0400 - mse: 0.0400 - mae: 0.1589 - val_loss: 0.0405 - val_mse: 0.0405 - val_mae: 0.1622\n",
      "Epoch 55/100\n",
      "48/48 [==============================] - 0s 5ms/step - loss: 0.0404 - mse: 0.0404 - mae: 0.1600 - val_loss: 0.0407 - val_mse: 0.0407 - val_mae: 0.1589\n",
      "Epoch 56/100\n",
      "48/48 [==============================] - 0s 5ms/step - loss: 0.0400 - mse: 0.0400 - mae: 0.1588 - val_loss: 0.0406 - val_mse: 0.0406 - val_mae: 0.1593\n",
      "Epoch 57/100\n",
      "48/48 [==============================] - 0s 5ms/step - loss: 0.0400 - mse: 0.0400 - mae: 0.1596 - val_loss: 0.0402 - val_mse: 0.0402 - val_mae: 0.1599\n",
      "Epoch 58/100\n",
      "48/48 [==============================] - 0s 5ms/step - loss: 0.0398 - mse: 0.0398 - mae: 0.1581 - val_loss: 0.0402 - val_mse: 0.0402 - val_mae: 0.1587\n",
      "Epoch 59/100\n",
      "48/48 [==============================] - 0s 5ms/step - loss: 0.0400 - mse: 0.0400 - mae: 0.1589 - val_loss: 0.0401 - val_mse: 0.0401 - val_mae: 0.1574\n",
      "Epoch 60/100\n",
      "48/48 [==============================] - 0s 5ms/step - loss: 0.0398 - mse: 0.0398 - mae: 0.1580 - val_loss: 0.0418 - val_mse: 0.0418 - val_mae: 0.1617\n",
      "Epoch 61/100\n",
      "48/48 [==============================] - 0s 5ms/step - loss: 0.0400 - mse: 0.0400 - mae: 0.1586 - val_loss: 0.0412 - val_mse: 0.0412 - val_mae: 0.1598\n",
      "Epoch 62/100\n",
      "48/48 [==============================] - 0s 5ms/step - loss: 0.0401 - mse: 0.0401 - mae: 0.1598 - val_loss: 0.0408 - val_mse: 0.0408 - val_mae: 0.1595\n",
      "Epoch 63/100\n",
      "48/48 [==============================] - 0s 5ms/step - loss: 0.0398 - mse: 0.0398 - mae: 0.1578 - val_loss: 0.0404 - val_mse: 0.0404 - val_mae: 0.1583\n",
      "Epoch 64/100\n",
      "48/48 [==============================] - 0s 5ms/step - loss: 0.0397 - mse: 0.0397 - mae: 0.1582 - val_loss: 0.0409 - val_mse: 0.0409 - val_mae: 0.1597\n",
      "Epoch 65/100\n",
      "48/48 [==============================] - 0s 5ms/step - loss: 0.0397 - mse: 0.0397 - mae: 0.1582 - val_loss: 0.0405 - val_mse: 0.0405 - val_mae: 0.1609\n",
      "Epoch 66/100\n",
      "48/48 [==============================] - 0s 5ms/step - loss: 0.0407 - mse: 0.0407 - mae: 0.1612 - val_loss: 0.0401 - val_mse: 0.0401 - val_mae: 0.1576\n",
      "Epoch 67/100\n",
      "48/48 [==============================] - 0s 5ms/step - loss: 0.0399 - mse: 0.0399 - mae: 0.1584 - val_loss: 0.0402 - val_mse: 0.0402 - val_mae: 0.1600\n",
      "Epoch 68/100\n",
      "48/48 [==============================] - 0s 5ms/step - loss: 0.0397 - mse: 0.0397 - mae: 0.1583 - val_loss: 0.0401 - val_mse: 0.0401 - val_mae: 0.1601\n",
      "Epoch 69/100\n",
      "48/48 [==============================] - 0s 5ms/step - loss: 0.0404 - mse: 0.0404 - mae: 0.1590 - val_loss: 0.0410 - val_mse: 0.0410 - val_mae: 0.1595\n",
      "Epoch 70/100\n",
      "48/48 [==============================] - 0s 5ms/step - loss: 0.0406 - mse: 0.0406 - mae: 0.1611 - val_loss: 0.0407 - val_mse: 0.0407 - val_mae: 0.1592\n",
      "Epoch 71/100\n",
      "48/48 [==============================] - 0s 5ms/step - loss: 0.0402 - mse: 0.0402 - mae: 0.1598 - val_loss: 0.0400 - val_mse: 0.0400 - val_mae: 0.1570\n",
      "Epoch 72/100\n",
      "48/48 [==============================] - 0s 4ms/step - loss: 0.0396 - mse: 0.0396 - mae: 0.1568 - val_loss: 0.0400 - val_mse: 0.0400 - val_mae: 0.1581\n",
      "Epoch 73/100\n",
      "48/48 [==============================] - 0s 5ms/step - loss: 0.0396 - mse: 0.0396 - mae: 0.1576 - val_loss: 0.0402 - val_mse: 0.0402 - val_mae: 0.1580\n",
      "Epoch 74/100\n",
      "48/48 [==============================] - 0s 5ms/step - loss: 0.0396 - mse: 0.0396 - mae: 0.1571 - val_loss: 0.0400 - val_mse: 0.0400 - val_mae: 0.1596\n",
      "Epoch 75/100\n",
      "48/48 [==============================] - 0s 5ms/step - loss: 0.0397 - mse: 0.0397 - mae: 0.1580 - val_loss: 0.0400 - val_mse: 0.0400 - val_mae: 0.1571\n",
      "Epoch 76/100\n",
      "48/48 [==============================] - 0s 5ms/step - loss: 0.0397 - mse: 0.0397 - mae: 0.1576 - val_loss: 0.0422 - val_mse: 0.0422 - val_mae: 0.1632\n",
      "Epoch 77/100\n",
      "48/48 [==============================] - 0s 5ms/step - loss: 0.0400 - mse: 0.0400 - mae: 0.1594 - val_loss: 0.0412 - val_mse: 0.0412 - val_mae: 0.1597\n",
      "Epoch 78/100\n",
      "48/48 [==============================] - 0s 6ms/step - loss: 0.0399 - mse: 0.0399 - mae: 0.1586 - val_loss: 0.0400 - val_mse: 0.0400 - val_mae: 0.1586\n",
      "Epoch 79/100\n",
      "48/48 [==============================] - 0s 6ms/step - loss: 0.0398 - mse: 0.0398 - mae: 0.1572 - val_loss: 0.0407 - val_mse: 0.0407 - val_mae: 0.1621\n",
      "Epoch 80/100\n",
      "48/48 [==============================] - 0s 5ms/step - loss: 0.0415 - mse: 0.0415 - mae: 0.1628 - val_loss: 0.0410 - val_mse: 0.0410 - val_mae: 0.1597\n",
      "Epoch 81/100\n",
      "48/48 [==============================] - 0s 5ms/step - loss: 0.0397 - mse: 0.0397 - mae: 0.1582 - val_loss: 0.0401 - val_mse: 0.0401 - val_mae: 0.1612\n",
      "Epoch 82/100\n",
      "48/48 [==============================] - 0s 5ms/step - loss: 0.0396 - mse: 0.0396 - mae: 0.1578 - val_loss: 0.0401 - val_mse: 0.0401 - val_mae: 0.1575\n",
      "Epoch 83/100\n",
      "48/48 [==============================] - 0s 5ms/step - loss: 0.0398 - mse: 0.0398 - mae: 0.1587 - val_loss: 0.0409 - val_mse: 0.0409 - val_mae: 0.1626\n",
      "Epoch 84/100\n",
      "48/48 [==============================] - 0s 5ms/step - loss: 0.0399 - mse: 0.0399 - mae: 0.1580 - val_loss: 0.0398 - val_mse: 0.0398 - val_mae: 0.1568\n",
      "Epoch 85/100\n",
      "48/48 [==============================] - 0s 5ms/step - loss: 0.0398 - mse: 0.0398 - mae: 0.1579 - val_loss: 0.0398 - val_mse: 0.0398 - val_mae: 0.1568\n",
      "Epoch 86/100\n",
      "48/48 [==============================] - 0s 5ms/step - loss: 0.0396 - mse: 0.0396 - mae: 0.1575 - val_loss: 0.0404 - val_mse: 0.0404 - val_mae: 0.1590\n",
      "Epoch 87/100\n",
      "48/48 [==============================] - 0s 6ms/step - loss: 0.0404 - mse: 0.0404 - mae: 0.1600 - val_loss: 0.0409 - val_mse: 0.0409 - val_mae: 0.1610\n",
      "Epoch 88/100\n",
      "48/48 [==============================] - 0s 5ms/step - loss: 0.0398 - mse: 0.0398 - mae: 0.1576 - val_loss: 0.0405 - val_mse: 0.0405 - val_mae: 0.1588\n",
      "Epoch 89/100\n",
      "48/48 [==============================] - 0s 6ms/step - loss: 0.0397 - mse: 0.0397 - mae: 0.1577 - val_loss: 0.0399 - val_mse: 0.0399 - val_mae: 0.1573\n",
      "Epoch 90/100\n",
      "48/48 [==============================] - 0s 5ms/step - loss: 0.0396 - mse: 0.0396 - mae: 0.1571 - val_loss: 0.0447 - val_mse: 0.0447 - val_mae: 0.1691\n",
      "Epoch 91/100\n",
      "48/48 [==============================] - 0s 5ms/step - loss: 0.0410 - mse: 0.0410 - mae: 0.1621 - val_loss: 0.0401 - val_mse: 0.0401 - val_mae: 0.1591\n",
      "Epoch 92/100\n",
      "48/48 [==============================] - 0s 5ms/step - loss: 0.0397 - mse: 0.0397 - mae: 0.1576 - val_loss: 0.0399 - val_mse: 0.0399 - val_mae: 0.1587\n",
      "Epoch 93/100\n",
      "48/48 [==============================] - 0s 5ms/step - loss: 0.0401 - mse: 0.0401 - mae: 0.1589 - val_loss: 0.0404 - val_mse: 0.0404 - val_mae: 0.1607\n",
      "Epoch 94/100\n",
      "48/48 [==============================] - 0s 5ms/step - loss: 0.0397 - mse: 0.0397 - mae: 0.1579 - val_loss: 0.0398 - val_mse: 0.0398 - val_mae: 0.1568\n",
      "Epoch 95/100\n",
      "48/48 [==============================] - 0s 5ms/step - loss: 0.0395 - mse: 0.0395 - mae: 0.1576 - val_loss: 0.0398 - val_mse: 0.0398 - val_mae: 0.1566\n",
      "Epoch 96/100\n",
      "48/48 [==============================] - 0s 5ms/step - loss: 0.0395 - mse: 0.0395 - mae: 0.1570 - val_loss: 0.0397 - val_mse: 0.0397 - val_mae: 0.1568\n",
      "Epoch 97/100\n",
      "48/48 [==============================] - 0s 4ms/step - loss: 0.0396 - mse: 0.0396 - mae: 0.1572 - val_loss: 0.0399 - val_mse: 0.0399 - val_mae: 0.1570\n",
      "Epoch 98/100\n",
      "48/48 [==============================] - 0s 5ms/step - loss: 0.0400 - mse: 0.0400 - mae: 0.1582 - val_loss: 0.0398 - val_mse: 0.0398 - val_mae: 0.1571\n",
      "Epoch 99/100\n",
      "48/48 [==============================] - 0s 6ms/step - loss: 0.0395 - mse: 0.0395 - mae: 0.1573 - val_loss: 0.0403 - val_mse: 0.0403 - val_mae: 0.1584\n",
      "Epoch 100/100\n",
      "48/48 [==============================] - 0s 6ms/step - loss: 0.0398 - mse: 0.0398 - mae: 0.1592 - val_loss: 0.0401 - val_mse: 0.0401 - val_mae: 0.1583\n"
     ]
    }
   ],
   "source": [
    "# create model\n",
    "model1 = Sequential()\n",
    "model1.add(Dense(4, input_dim=3, kernel_initializer='normal', activation='relu'))\n",
    "model1.add(Dense(2106,kernel_initializer='normal', activation='relu'))\n",
    "model1.add(Dense(1, activation='linear'))\n",
    "# Compile model\n",
    "model1.compile(loss='mean_squared_error', optimizer='adam', metrics=['mse','mae'])\n",
    "# Fit the model\n",
    "hist1 = model1.fit(xtrain_scale, ytrain_scale, validation_split=0.33, epochs=100, batch_size=150)\n",
    "#At epoch 50, mse and mae just keeps oscillating back and forth"
   ]
  },
  {
   "cell_type": "code",
   "execution_count": 13,
   "id": "9c55ae8f",
   "metadata": {},
   "outputs": [
    {
     "name": "stdout",
     "output_type": "stream",
     "text": [
      "Model: \"sequential\"\n",
      "_________________________________________________________________\n",
      " Layer (type)                Output Shape              Param #   \n",
      "=================================================================\n",
      " dense (Dense)               (None, 4)                 16        \n",
      "                                                                 \n",
      " dense_1 (Dense)             (None, 2106)              10530     \n",
      "                                                                 \n",
      " dense_2 (Dense)             (None, 1)                 2107      \n",
      "                                                                 \n",
      "=================================================================\n",
      "Total params: 12,653\n",
      "Trainable params: 12,653\n",
      "Non-trainable params: 0\n",
      "_________________________________________________________________\n"
     ]
    }
   ],
   "source": [
    "model1.summary() "
   ]
  },
  {
   "cell_type": "markdown",
   "id": "b9d94e24",
   "metadata": {},
   "source": [
    "# Model Evaluation"
   ]
  },
  {
   "cell_type": "code",
   "execution_count": 14,
   "id": "37e3c9c5",
   "metadata": {},
   "outputs": [
    {
     "name": "stdout",
     "output_type": "stream",
     "text": [
      "141/141 [==============================] - 0s 1ms/step\n"
     ]
    }
   ],
   "source": [
    "y_predict = model1.predict(xtest_scale)"
   ]
  },
  {
   "cell_type": "code",
   "execution_count": 15,
   "id": "fe43a9a8",
   "metadata": {},
   "outputs": [
    {
     "name": "stdout",
     "output_type": "stream",
     "text": [
      "dict_keys(['loss', 'mse', 'mae', 'val_loss', 'val_mse', 'val_mae'])\n"
     ]
    }
   ],
   "source": [
    "print(hist1.history.keys())"
   ]
  },
  {
   "cell_type": "code",
   "execution_count": 16,
   "id": "a96b3f1a",
   "metadata": {},
   "outputs": [
    {
     "data": {
      "text/html": [
       "<div>\n",
       "<style scoped>\n",
       "    .dataframe tbody tr th:only-of-type {\n",
       "        vertical-align: middle;\n",
       "    }\n",
       "\n",
       "    .dataframe tbody tr th {\n",
       "        vertical-align: top;\n",
       "    }\n",
       "\n",
       "    .dataframe thead th {\n",
       "        text-align: right;\n",
       "    }\n",
       "</style>\n",
       "<table border=\"1\" class=\"dataframe\">\n",
       "  <thead>\n",
       "    <tr style=\"text-align: right;\">\n",
       "      <th></th>\n",
       "      <th>loss</th>\n",
       "      <th>mse</th>\n",
       "      <th>mae</th>\n",
       "      <th>val_loss</th>\n",
       "      <th>val_mse</th>\n",
       "      <th>val_mae</th>\n",
       "      <th>epoch</th>\n",
       "    </tr>\n",
       "  </thead>\n",
       "  <tbody>\n",
       "    <tr>\n",
       "      <th>95</th>\n",
       "      <td>0.039539</td>\n",
       "      <td>0.039539</td>\n",
       "      <td>0.156977</td>\n",
       "      <td>0.039717</td>\n",
       "      <td>0.039717</td>\n",
       "      <td>0.156782</td>\n",
       "      <td>95</td>\n",
       "    </tr>\n",
       "    <tr>\n",
       "      <th>96</th>\n",
       "      <td>0.039562</td>\n",
       "      <td>0.039562</td>\n",
       "      <td>0.157204</td>\n",
       "      <td>0.039912</td>\n",
       "      <td>0.039912</td>\n",
       "      <td>0.157043</td>\n",
       "      <td>96</td>\n",
       "    </tr>\n",
       "    <tr>\n",
       "      <th>97</th>\n",
       "      <td>0.039978</td>\n",
       "      <td>0.039978</td>\n",
       "      <td>0.158169</td>\n",
       "      <td>0.039826</td>\n",
       "      <td>0.039826</td>\n",
       "      <td>0.157104</td>\n",
       "      <td>97</td>\n",
       "    </tr>\n",
       "    <tr>\n",
       "      <th>98</th>\n",
       "      <td>0.039477</td>\n",
       "      <td>0.039477</td>\n",
       "      <td>0.157324</td>\n",
       "      <td>0.040268</td>\n",
       "      <td>0.040268</td>\n",
       "      <td>0.158412</td>\n",
       "      <td>98</td>\n",
       "    </tr>\n",
       "    <tr>\n",
       "      <th>99</th>\n",
       "      <td>0.039797</td>\n",
       "      <td>0.039797</td>\n",
       "      <td>0.159245</td>\n",
       "      <td>0.040121</td>\n",
       "      <td>0.040121</td>\n",
       "      <td>0.158309</td>\n",
       "      <td>99</td>\n",
       "    </tr>\n",
       "  </tbody>\n",
       "</table>\n",
       "</div>"
      ],
      "text/plain": [
       "        loss       mse       mae  val_loss   val_mse   val_mae  epoch\n",
       "95  0.039539  0.039539  0.156977  0.039717  0.039717  0.156782     95\n",
       "96  0.039562  0.039562  0.157204  0.039912  0.039912  0.157043     96\n",
       "97  0.039978  0.039978  0.158169  0.039826  0.039826  0.157104     97\n",
       "98  0.039477  0.039477  0.157324  0.040268  0.040268  0.158412     98\n",
       "99  0.039797  0.039797  0.159245  0.040121  0.040121  0.158309     99"
      ]
     },
     "execution_count": 16,
     "metadata": {},
     "output_type": "execute_result"
    }
   ],
   "source": [
    "hist1_df = pd.DataFrame(hist1.history)\n",
    "hist1_df[\"epoch\"]=hist1.epoch\n",
    "hist1_df.tail()"
   ]
  },
  {
   "cell_type": "markdown",
   "id": "c303c3c7",
   "metadata": {},
   "source": [
    "# Visualize Training History"
   ]
  },
  {
   "cell_type": "code",
   "execution_count": 20,
   "id": "04000eae",
   "metadata": {},
   "outputs": [
    {
     "data": {
      "image/png": "[encoded data removed]",
      "text/plain": [
       "<Figure size 600x400 with 1 Axes>"
      ]
     },
     "metadata": {},
     "output_type": "display_data"
    }
   ],
   "source": [
    "# summarize history for Loss\n",
    "\n",
    "sns.set(rc={'figure.figsize':(6,4)})\n",
    "\n",
    "plt.plot(hist1.history['loss'])\n",
    "plt.plot(hist1.history['val_loss'])\n",
    "plt.title('model1 loss')\n",
    "plt.ylabel('loss')\n",
    "plt.xlabel('epoch')\n",
    "plt.legend(['train', 'test'], loc='upper left')\n",
    "plt.show()"
   ]
  },
  {
   "cell_type": "code",
   "execution_count": 21,
   "id": "a746b10d",
   "metadata": {},
   "outputs": [
    {
     "data": {
      "image/png": "[encoded data removed]",
      "text/plain": [
       "<Figure size 600x400 with 1 Axes>"
      ]
     },
     "metadata": {},
     "output_type": "display_data"
    }
   ],
   "source": [
    "# summarize history for loss\n",
    "plt.plot(hist1.history['mse'])\n",
    "plt.plot(hist1.history['val_mse'])\n",
    "plt.title('model1 mse')\n",
    "plt.ylabel('mse')\n",
    "plt.xlabel('epoch')\n",
    "plt.legend(['train', 'test'], loc='upper left')\n",
    "plt.show() "
   ]
  },
  {
   "cell_type": "code",
   "execution_count": null,
   "id": "774035b0",
   "metadata": {},
   "outputs": [],
   "source": []
  }
 ],
 "metadata": {
  "kernelspec": {
   "display_name": "Python 3 (ipykernel)",
   "language": "python",
   "name": "python3"
  },
  "language_info": {
   "codemirror_mode": {
    "name": "ipython",
    "version": 3
   },
   "file_extension": ".py",
   "mimetype": "text/x-python",
   "name": "python",
   "nbconvert_exporter": "python",
   "pygments_lexer": "ipython3",
   "version": "3.9.13"
  }
 },
 "nbformat": 4,
 "nbformat_minor": 5
}
